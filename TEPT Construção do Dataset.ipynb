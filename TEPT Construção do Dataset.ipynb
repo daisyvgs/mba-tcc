{
 "cells": [
  {
   "cell_type": "markdown",
   "id": "31e88766",
   "metadata": {},
   "source": [
    "## TEPT: Construção do Dataset"
   ]
  },
  {
   "cell_type": "code",
   "execution_count": null,
   "id": "b7afb1d1",
   "metadata": {},
   "outputs": [],
   "source": [
    "from itertools import product\n",
    "import pandas as pd\n",
    "import numpy as np\n",
    "\n",
    "# Importação das bibliotecas que serão utilizadas"
   ]
  },
  {
   "cell_type": "markdown",
   "id": "0b998d32",
   "metadata": {},
   "source": [
    "### Atributos\n",
    "\n",
    "<p>O Transtorno de Estresse Pós-Traumático (TEPT) possui 5 categorias de critérios diagnósticos, identificadas como A, B, C, D e E.</p>\n",
    "<p>Para que o diagnóstico seja realizado, uma quantidade mínima de critérios deve ser atingida em cada categoria:</p>\n",
    "<ul>\n",
    "<li> Pelo menos 1 dos 4 critérios da categoria A;</li>\n",
    "<li> Pelo menos 1 dos 5 critérios da categoria B;</li>\n",
    "<li> Pelo menos 1 dos 2 critérios da categoria C;</li>\n",
    "<li> Pelo menos 2 dos 7 critérios da categoria D;</li>\n",
    "<li> Pelo menos 2 dos 6 critérios da categoria E.</li>\n",
    "</ul>\n",
    "<p>Considerando estas informações, foi criado um dataframe com 24 colunas/variáveis, cada uma referente a um critério diagnóstico.</p>\n",
    "<p>Cada linha do dataframe é uma observação/caso.</p>\n",
    "<p>A ausência ou a presença de cada critério diagnóstico foi identificada como 0 ou 1, respectivamente.</p>"
   ]
  },
  {
   "cell_type": "code",
   "execution_count": null,
   "id": "4729fe0a",
   "metadata": {},
   "outputs": [],
   "source": [
    "tept_combinations = list(product([0, 1], repeat=24))\n",
    "\n",
    "# Uso de iterações através da função product da biblioteca itertools;\n",
    "# Cria uma tabela com as combinações possíveis de 0 e 1 em 24 colunas;\n",
    "# Guarda o resultado na variável tept_combinations."
   ]
  },
  {
   "cell_type": "code",
   "execution_count": null,
   "id": "118ac54c",
   "metadata": {},
   "outputs": [],
   "source": [
    "tept_df = pd.DataFrame(tept_combinations)\n",
    "\n",
    "# Cria um dataframe do pandas com os dados de tept_combinations;\n",
    "# Armazena o dataframe criado na variável tept_df;\n",
    "# O dataframe possui 16.777.216 observações e 24 variáveis."
   ]
  },
  {
   "cell_type": "code",
   "execution_count": null,
   "id": "7a2ccc28",
   "metadata": {},
   "outputs": [],
   "source": [
    "conditions = [\n",
    "    (tept_df[0] + tept_df[1] + tept_df[2] + tept_df[3] >= 1) &\n",
    "    (tept_df[4] + tept_df[5] + tept_df[6] + tept_df[7] + tept_df[8] >= 1) &\n",
    "    (tept_df[9] + tept_df[10] >= 1) &\n",
    "    (tept_df[11] + tept_df[12] + tept_df[13] + tept_df[14] + tept_df[15] + tept_df[16] + tept_df[17] >= 2) &\n",
    "    (tept_df[18] + tept_df[19] + tept_df[20] + tept_df[21] + tept_df[22] + tept_df[23] >= 2),\n",
    "]\n",
    "\n",
    "result = ['sim']\n",
    "\n",
    "# Cria condições que avaliam os critérios mínimos para o diagnóstico de TEPT, conforme citado anteriormente;\n",
    "# Retorna e armazena o valor \"sim\" na variável result, caso os critérios mínimos sejam atingidos."
   ]
  },
  {
   "cell_type": "code",
   "execution_count": null,
   "id": "f63a2a1f",
   "metadata": {},
   "outputs": [],
   "source": [
    "tept_df['resultado'] = np.select(conditions, result, default='não')\n",
    "\n",
    "# Cria a coluna/variável resultado no dataframe tept_df;\n",
    "# A função select do numpy aplica as condições e retorna \"sim\" ou \"não\" para cada observação."
   ]
  },
  {
   "cell_type": "code",
   "execution_count": null,
   "id": "ef452852",
   "metadata": {},
   "outputs": [],
   "source": [
    "tept_df.rename({\n",
    "    0:'a1',\n",
    "    1:'a2',\n",
    "    2:'a3',\n",
    "    3:'a4',\n",
    "    4:'b1',\n",
    "    5:'b2',\n",
    "    6:'b3',\n",
    "    7:'b4',\n",
    "    8:'b5',\n",
    "    9:'c1',\n",
    "    10:'c2',\n",
    "    11:'d1',\n",
    "    12:'d2',\n",
    "    13:'d3',\n",
    "    14:'d4',\n",
    "    15:'d5',\n",
    "    16:'d6',\n",
    "    17:'d7',\n",
    "    18:'e1',\n",
    "    19:'e2',\n",
    "    20:'e3',\n",
    "    21:'e4',\n",
    "    22:'e5',\n",
    "    23:'e6',\n",
    "}, axis=1, inplace=True)\n",
    "\n",
    "# Renomeia as colunas do dataframe de acordo com os critérios diagnósticos e suas categorias."
   ]
  },
  {
   "cell_type": "code",
   "execution_count": null,
   "id": "67ce8002",
   "metadata": {},
   "outputs": [],
   "source": [
    "amostra = tept_df.sample(50000)\n",
    "\n",
    "# Define uma amostra aleatória composta por 50.000 observações."
   ]
  },
  {
   "cell_type": "code",
   "execution_count": null,
   "id": "1636a80c",
   "metadata": {},
   "outputs": [],
   "source": [
    "tept = amostra['resultado'].replace({'não':0, 'sim':1})\n",
    "df_amostra = amostra.assign(tept=tept)\n",
    "\n",
    "# Seleciona e copia a coluna resultado e substitui os valores \"não\" e \"sim\" por 0 e 1, respectivamente;\n",
    "# O resultado é atribuído à variável tept;\n",
    "# tept é adicionada como uma nova coluna do dataframe através do método assign do pandas."
   ]
  },
  {
   "cell_type": "code",
   "execution_count": null,
   "id": "61842f7a",
   "metadata": {},
   "outputs": [],
   "source": [
    "df_amostra.to_csv('tept_df.csv')\n",
    "\n",
    "# Salva o dataframe como um arquivo csv."
   ]
  },
  {
   "cell_type": "code",
   "execution_count": null,
   "id": "9f104698",
   "metadata": {},
   "outputs": [],
   "source": [
    "tept_df = pd.read_csv('tept_df.csv')\n",
    "\n",
    "# Importa os dados do arquivo csv e armazena em tept_df."
   ]
  },
  {
   "cell_type": "code",
   "execution_count": null,
   "id": "a418f0d4",
   "metadata": {},
   "outputs": [],
   "source": [
    "tept_df.rename(columns={'Unnamed: 0': 'id', 'resultado': 'tept', 'tept': 'resultado'}, inplace=True)\n",
    "\n",
    "# Renomeando colunas do dataset."
   ]
  },
  {
   "cell_type": "code",
   "execution_count": null,
   "id": "66376db9",
   "metadata": {},
   "outputs": [],
   "source": [
    "tept_df.to_csv(\"tept_dataset.csv\", index=False)\n",
    "\n",
    "# Dataset definitivo."
   ]
  }
 ],
 "metadata": {
  "kernelspec": {
   "display_name": "Python 3 (ipykernel)",
   "language": "python",
   "name": "python3"
  },
  "language_info": {
   "codemirror_mode": {
    "name": "ipython",
    "version": 3
   },
   "file_extension": ".py",
   "mimetype": "text/x-python",
   "name": "python",
   "nbconvert_exporter": "python",
   "pygments_lexer": "ipython3",
   "version": "3.10.9"
  }
 },
 "nbformat": 4,
 "nbformat_minor": 5
}
