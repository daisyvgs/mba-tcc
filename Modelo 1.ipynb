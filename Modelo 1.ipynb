{
 "cells": [
  {
   "cell_type": "markdown",
   "id": "5e50bbd4",
   "metadata": {},
   "source": [
    " ## Implementação do primeiro algoritmo\n",
    " ### Diagnóstico de TEPT\n",
    " #### Modelo Logístico Binário\n",
    " Variáveis qualitativas"
   ]
  },
  {
   "cell_type": "code",
   "execution_count": 1,
   "id": "c5146408",
   "metadata": {},
   "outputs": [],
   "source": [
    "import pandas as pd\n",
    "import numpy as np\n",
    "\n",
    "# Importa as bibliotecas Pandas e Numpy."
   ]
  },
  {
   "cell_type": "code",
   "execution_count": 2,
   "id": "23b05ed0",
   "metadata": {},
   "outputs": [
    {
     "data": {
      "text/html": [
       "<div>\n",
       "<style scoped>\n",
       "    .dataframe tbody tr th:only-of-type {\n",
       "        vertical-align: middle;\n",
       "    }\n",
       "\n",
       "    .dataframe tbody tr th {\n",
       "        vertical-align: top;\n",
       "    }\n",
       "\n",
       "    .dataframe thead th {\n",
       "        text-align: right;\n",
       "    }\n",
       "</style>\n",
       "<table border=\"1\" class=\"dataframe\">\n",
       "  <thead>\n",
       "    <tr style=\"text-align: right;\">\n",
       "      <th></th>\n",
       "      <th>id</th>\n",
       "      <th>a1</th>\n",
       "      <th>a2</th>\n",
       "      <th>a3</th>\n",
       "      <th>a4</th>\n",
       "      <th>b1</th>\n",
       "      <th>b2</th>\n",
       "      <th>b3</th>\n",
       "      <th>b4</th>\n",
       "      <th>b5</th>\n",
       "      <th>...</th>\n",
       "      <th>d5</th>\n",
       "      <th>d6</th>\n",
       "      <th>d7</th>\n",
       "      <th>e1</th>\n",
       "      <th>e2</th>\n",
       "      <th>e3</th>\n",
       "      <th>e4</th>\n",
       "      <th>e5</th>\n",
       "      <th>e6</th>\n",
       "      <th>resultado</th>\n",
       "    </tr>\n",
       "  </thead>\n",
       "  <tbody>\n",
       "    <tr>\n",
       "      <th>0</th>\n",
       "      <td>30677</td>\n",
       "      <td>não</td>\n",
       "      <td>não</td>\n",
       "      <td>não</td>\n",
       "      <td>não</td>\n",
       "      <td>não</td>\n",
       "      <td>não</td>\n",
       "      <td>não</td>\n",
       "      <td>não</td>\n",
       "      <td>não</td>\n",
       "      <td>...</td>\n",
       "      <td>sim</td>\n",
       "      <td>sim</td>\n",
       "      <td>sim</td>\n",
       "      <td>não</td>\n",
       "      <td>sim</td>\n",
       "      <td>não</td>\n",
       "      <td>sim</td>\n",
       "      <td>não</td>\n",
       "      <td>sim</td>\n",
       "      <td>não</td>\n",
       "    </tr>\n",
       "    <tr>\n",
       "      <th>1</th>\n",
       "      <td>14558580</td>\n",
       "      <td>sim</td>\n",
       "      <td>sim</td>\n",
       "      <td>não</td>\n",
       "      <td>sim</td>\n",
       "      <td>sim</td>\n",
       "      <td>sim</td>\n",
       "      <td>sim</td>\n",
       "      <td>não</td>\n",
       "      <td>não</td>\n",
       "      <td>...</td>\n",
       "      <td>sim</td>\n",
       "      <td>não</td>\n",
       "      <td>sim</td>\n",
       "      <td>sim</td>\n",
       "      <td>sim</td>\n",
       "      <td>não</td>\n",
       "      <td>sim</td>\n",
       "      <td>não</td>\n",
       "      <td>não</td>\n",
       "      <td>sim</td>\n",
       "    </tr>\n",
       "    <tr>\n",
       "      <th>2</th>\n",
       "      <td>8120741</td>\n",
       "      <td>não</td>\n",
       "      <td>sim</td>\n",
       "      <td>sim</td>\n",
       "      <td>sim</td>\n",
       "      <td>sim</td>\n",
       "      <td>não</td>\n",
       "      <td>sim</td>\n",
       "      <td>sim</td>\n",
       "      <td>sim</td>\n",
       "      <td>...</td>\n",
       "      <td>sim</td>\n",
       "      <td>sim</td>\n",
       "      <td>não</td>\n",
       "      <td>sim</td>\n",
       "      <td>não</td>\n",
       "      <td>não</td>\n",
       "      <td>sim</td>\n",
       "      <td>não</td>\n",
       "      <td>sim</td>\n",
       "      <td>sim</td>\n",
       "    </tr>\n",
       "    <tr>\n",
       "      <th>3</th>\n",
       "      <td>6658624</td>\n",
       "      <td>não</td>\n",
       "      <td>sim</td>\n",
       "      <td>sim</td>\n",
       "      <td>não</td>\n",
       "      <td>não</td>\n",
       "      <td>sim</td>\n",
       "      <td>não</td>\n",
       "      <td>sim</td>\n",
       "      <td>sim</td>\n",
       "      <td>...</td>\n",
       "      <td>não</td>\n",
       "      <td>não</td>\n",
       "      <td>sim</td>\n",
       "      <td>não</td>\n",
       "      <td>não</td>\n",
       "      <td>não</td>\n",
       "      <td>não</td>\n",
       "      <td>não</td>\n",
       "      <td>não</td>\n",
       "      <td>não</td>\n",
       "    </tr>\n",
       "    <tr>\n",
       "      <th>4</th>\n",
       "      <td>788586</td>\n",
       "      <td>não</td>\n",
       "      <td>não</td>\n",
       "      <td>não</td>\n",
       "      <td>não</td>\n",
       "      <td>sim</td>\n",
       "      <td>sim</td>\n",
       "      <td>não</td>\n",
       "      <td>não</td>\n",
       "      <td>não</td>\n",
       "      <td>...</td>\n",
       "      <td>não</td>\n",
       "      <td>não</td>\n",
       "      <td>sim</td>\n",
       "      <td>sim</td>\n",
       "      <td>não</td>\n",
       "      <td>sim</td>\n",
       "      <td>não</td>\n",
       "      <td>sim</td>\n",
       "      <td>não</td>\n",
       "      <td>não</td>\n",
       "    </tr>\n",
       "    <tr>\n",
       "      <th>...</th>\n",
       "      <td>...</td>\n",
       "      <td>...</td>\n",
       "      <td>...</td>\n",
       "      <td>...</td>\n",
       "      <td>...</td>\n",
       "      <td>...</td>\n",
       "      <td>...</td>\n",
       "      <td>...</td>\n",
       "      <td>...</td>\n",
       "      <td>...</td>\n",
       "      <td>...</td>\n",
       "      <td>...</td>\n",
       "      <td>...</td>\n",
       "      <td>...</td>\n",
       "      <td>...</td>\n",
       "      <td>...</td>\n",
       "      <td>...</td>\n",
       "      <td>...</td>\n",
       "      <td>...</td>\n",
       "      <td>...</td>\n",
       "      <td>...</td>\n",
       "    </tr>\n",
       "    <tr>\n",
       "      <th>49995</th>\n",
       "      <td>10572169</td>\n",
       "      <td>sim</td>\n",
       "      <td>não</td>\n",
       "      <td>sim</td>\n",
       "      <td>não</td>\n",
       "      <td>não</td>\n",
       "      <td>não</td>\n",
       "      <td>não</td>\n",
       "      <td>sim</td>\n",
       "      <td>não</td>\n",
       "      <td>...</td>\n",
       "      <td>sim</td>\n",
       "      <td>sim</td>\n",
       "      <td>não</td>\n",
       "      <td>não</td>\n",
       "      <td>não</td>\n",
       "      <td>sim</td>\n",
       "      <td>não</td>\n",
       "      <td>não</td>\n",
       "      <td>sim</td>\n",
       "      <td>sim</td>\n",
       "    </tr>\n",
       "    <tr>\n",
       "      <th>49996</th>\n",
       "      <td>4619788</td>\n",
       "      <td>não</td>\n",
       "      <td>sim</td>\n",
       "      <td>não</td>\n",
       "      <td>não</td>\n",
       "      <td>não</td>\n",
       "      <td>sim</td>\n",
       "      <td>sim</td>\n",
       "      <td>não</td>\n",
       "      <td>não</td>\n",
       "      <td>...</td>\n",
       "      <td>não</td>\n",
       "      <td>não</td>\n",
       "      <td>não</td>\n",
       "      <td>não</td>\n",
       "      <td>não</td>\n",
       "      <td>sim</td>\n",
       "      <td>sim</td>\n",
       "      <td>não</td>\n",
       "      <td>não</td>\n",
       "      <td>sim</td>\n",
       "    </tr>\n",
       "    <tr>\n",
       "      <th>49997</th>\n",
       "      <td>10619387</td>\n",
       "      <td>sim</td>\n",
       "      <td>não</td>\n",
       "      <td>sim</td>\n",
       "      <td>não</td>\n",
       "      <td>não</td>\n",
       "      <td>não</td>\n",
       "      <td>sim</td>\n",
       "      <td>não</td>\n",
       "      <td>não</td>\n",
       "      <td>...</td>\n",
       "      <td>sim</td>\n",
       "      <td>sim</td>\n",
       "      <td>sim</td>\n",
       "      <td>sim</td>\n",
       "      <td>sim</td>\n",
       "      <td>sim</td>\n",
       "      <td>não</td>\n",
       "      <td>sim</td>\n",
       "      <td>sim</td>\n",
       "      <td>não</td>\n",
       "    </tr>\n",
       "    <tr>\n",
       "      <th>49998</th>\n",
       "      <td>8289148</td>\n",
       "      <td>não</td>\n",
       "      <td>sim</td>\n",
       "      <td>sim</td>\n",
       "      <td>sim</td>\n",
       "      <td>sim</td>\n",
       "      <td>sim</td>\n",
       "      <td>sim</td>\n",
       "      <td>não</td>\n",
       "      <td>não</td>\n",
       "      <td>...</td>\n",
       "      <td>sim</td>\n",
       "      <td>não</td>\n",
       "      <td>sim</td>\n",
       "      <td>sim</td>\n",
       "      <td>sim</td>\n",
       "      <td>sim</td>\n",
       "      <td>sim</td>\n",
       "      <td>não</td>\n",
       "      <td>não</td>\n",
       "      <td>sim</td>\n",
       "    </tr>\n",
       "    <tr>\n",
       "      <th>49999</th>\n",
       "      <td>6617225</td>\n",
       "      <td>não</td>\n",
       "      <td>sim</td>\n",
       "      <td>sim</td>\n",
       "      <td>não</td>\n",
       "      <td>não</td>\n",
       "      <td>sim</td>\n",
       "      <td>não</td>\n",
       "      <td>não</td>\n",
       "      <td>sim</td>\n",
       "      <td>...</td>\n",
       "      <td>não</td>\n",
       "      <td>sim</td>\n",
       "      <td>não</td>\n",
       "      <td>não</td>\n",
       "      <td>não</td>\n",
       "      <td>sim</td>\n",
       "      <td>não</td>\n",
       "      <td>não</td>\n",
       "      <td>sim</td>\n",
       "      <td>sim</td>\n",
       "    </tr>\n",
       "  </tbody>\n",
       "</table>\n",
       "<p>50000 rows × 26 columns</p>\n",
       "</div>"
      ],
      "text/plain": [
       "             id   a1   a2   a3   a4   b1   b2   b3   b4   b5  ...   d5   d6  \\\n",
       "0         30677  não  não  não  não  não  não  não  não  não  ...  sim  sim   \n",
       "1      14558580  sim  sim  não  sim  sim  sim  sim  não  não  ...  sim  não   \n",
       "2       8120741  não  sim  sim  sim  sim  não  sim  sim  sim  ...  sim  sim   \n",
       "3       6658624  não  sim  sim  não  não  sim  não  sim  sim  ...  não  não   \n",
       "4        788586  não  não  não  não  sim  sim  não  não  não  ...  não  não   \n",
       "...         ...  ...  ...  ...  ...  ...  ...  ...  ...  ...  ...  ...  ...   \n",
       "49995  10572169  sim  não  sim  não  não  não  não  sim  não  ...  sim  sim   \n",
       "49996   4619788  não  sim  não  não  não  sim  sim  não  não  ...  não  não   \n",
       "49997  10619387  sim  não  sim  não  não  não  sim  não  não  ...  sim  sim   \n",
       "49998   8289148  não  sim  sim  sim  sim  sim  sim  não  não  ...  sim  não   \n",
       "49999   6617225  não  sim  sim  não  não  sim  não  não  sim  ...  não  sim   \n",
       "\n",
       "        d7   e1   e2   e3   e4   e5   e6 resultado  \n",
       "0      sim  não  sim  não  sim  não  sim       não  \n",
       "1      sim  sim  sim  não  sim  não  não       sim  \n",
       "2      não  sim  não  não  sim  não  sim       sim  \n",
       "3      sim  não  não  não  não  não  não       não  \n",
       "4      sim  sim  não  sim  não  sim  não       não  \n",
       "...    ...  ...  ...  ...  ...  ...  ...       ...  \n",
       "49995  não  não  não  sim  não  não  sim       sim  \n",
       "49996  não  não  não  sim  sim  não  não       sim  \n",
       "49997  sim  sim  sim  sim  não  sim  sim       não  \n",
       "49998  sim  sim  sim  sim  sim  não  não       sim  \n",
       "49999  não  não  não  sim  não  não  sim       sim  \n",
       "\n",
       "[50000 rows x 26 columns]"
      ]
     },
     "execution_count": 2,
     "metadata": {},
     "output_type": "execute_result"
    }
   ],
   "source": [
    "df = pd.read_csv('tept.csv')\n",
    "df\n",
    "\n",
    "# Exibe dataset atribuído a df."
   ]
  },
  {
   "cell_type": "code",
   "execution_count": 3,
   "id": "d15a715d",
   "metadata": {},
   "outputs": [
    {
     "data": {
      "text/plain": [
       "não    21462\n",
       "sim    28538\n",
       "Name: resultado, dtype: int64"
      ]
     },
     "execution_count": 3,
     "metadata": {},
     "output_type": "execute_result"
    }
   ],
   "source": [
    "df['resultado'].value_counts().sort_index()\n",
    "\n",
    "# Frequência de casos negativos e positivos de TEPT, identificados como não e sim, respectivamente."
   ]
  },
  {
   "cell_type": "code",
   "execution_count": 4,
   "id": "5be9888e",
   "metadata": {},
   "outputs": [
    {
     "data": {
      "text/plain": [
       "sim    57.076\n",
       "não    42.924\n",
       "Name: resultado, dtype: float64"
      ]
     },
     "execution_count": 4,
     "metadata": {},
     "output_type": "execute_result"
    }
   ],
   "source": [
    "df[\"resultado\"].value_counts(normalize=True)*100\n",
    "\n",
    "# Percentual de casos positivos e negativos de TEPT, identificados como sim e não, respectivamente."
   ]
  },
  {
   "cell_type": "code",
   "execution_count": 5,
   "id": "fba1084f",
   "metadata": {},
   "outputs": [],
   "source": [
    "df.loc[df['resultado']=='não', 'resultado'] = 0\n",
    "df.loc[df['resultado']=='sim', 'resultado'] = 1\n",
    "\n",
    "# Substitui as strings da coluna resultado por valores binários."
   ]
  },
  {
   "cell_type": "code",
   "execution_count": 6,
   "id": "c8d6c5b7",
   "metadata": {},
   "outputs": [
    {
     "name": "stdout",
     "output_type": "stream",
     "text": [
      "object\n"
     ]
    }
   ],
   "source": [
    "print(df['resultado'].dtype)\n",
    "\n",
    "# Mostra o tipo da variável resultado."
   ]
  },
  {
   "cell_type": "code",
   "execution_count": 7,
   "id": "b0373a4a",
   "metadata": {},
   "outputs": [
    {
     "name": "stdout",
     "output_type": "stream",
     "text": [
      "int64\n"
     ]
    }
   ],
   "source": [
    "df['resultado'] = df['resultado'].astype('int64')\n",
    "print(df['resultado'].dtype)\n",
    "\n",
    "# Altera o tipo da variável para número inteiro."
   ]
  },
  {
   "cell_type": "code",
   "execution_count": 8,
   "id": "76c2894a",
   "metadata": {},
   "outputs": [
    {
     "data": {
      "text/html": [
       "<div>\n",
       "<style scoped>\n",
       "    .dataframe tbody tr th:only-of-type {\n",
       "        vertical-align: middle;\n",
       "    }\n",
       "\n",
       "    .dataframe tbody tr th {\n",
       "        vertical-align: top;\n",
       "    }\n",
       "\n",
       "    .dataframe thead th {\n",
       "        text-align: right;\n",
       "    }\n",
       "</style>\n",
       "<table border=\"1\" class=\"dataframe\">\n",
       "  <thead>\n",
       "    <tr style=\"text-align: right;\">\n",
       "      <th></th>\n",
       "      <th>id</th>\n",
       "      <th>resultado</th>\n",
       "      <th>a1_sim</th>\n",
       "      <th>a2_sim</th>\n",
       "      <th>a3_sim</th>\n",
       "      <th>a4_sim</th>\n",
       "      <th>b1_sim</th>\n",
       "      <th>b2_sim</th>\n",
       "      <th>b3_sim</th>\n",
       "      <th>b4_sim</th>\n",
       "      <th>...</th>\n",
       "      <th>d4_sim</th>\n",
       "      <th>d5_sim</th>\n",
       "      <th>d6_sim</th>\n",
       "      <th>d7_sim</th>\n",
       "      <th>e1_sim</th>\n",
       "      <th>e2_sim</th>\n",
       "      <th>e3_sim</th>\n",
       "      <th>e4_sim</th>\n",
       "      <th>e5_sim</th>\n",
       "      <th>e6_sim</th>\n",
       "    </tr>\n",
       "  </thead>\n",
       "  <tbody>\n",
       "    <tr>\n",
       "      <th>0</th>\n",
       "      <td>30677</td>\n",
       "      <td>0</td>\n",
       "      <td>0</td>\n",
       "      <td>0</td>\n",
       "      <td>0</td>\n",
       "      <td>0</td>\n",
       "      <td>0</td>\n",
       "      <td>0</td>\n",
       "      <td>0</td>\n",
       "      <td>0</td>\n",
       "      <td>...</td>\n",
       "      <td>1</td>\n",
       "      <td>1</td>\n",
       "      <td>1</td>\n",
       "      <td>1</td>\n",
       "      <td>0</td>\n",
       "      <td>1</td>\n",
       "      <td>0</td>\n",
       "      <td>1</td>\n",
       "      <td>0</td>\n",
       "      <td>1</td>\n",
       "    </tr>\n",
       "    <tr>\n",
       "      <th>1</th>\n",
       "      <td>14558580</td>\n",
       "      <td>1</td>\n",
       "      <td>1</td>\n",
       "      <td>1</td>\n",
       "      <td>0</td>\n",
       "      <td>1</td>\n",
       "      <td>1</td>\n",
       "      <td>1</td>\n",
       "      <td>1</td>\n",
       "      <td>0</td>\n",
       "      <td>...</td>\n",
       "      <td>0</td>\n",
       "      <td>1</td>\n",
       "      <td>0</td>\n",
       "      <td>1</td>\n",
       "      <td>1</td>\n",
       "      <td>1</td>\n",
       "      <td>0</td>\n",
       "      <td>1</td>\n",
       "      <td>0</td>\n",
       "      <td>0</td>\n",
       "    </tr>\n",
       "    <tr>\n",
       "      <th>2</th>\n",
       "      <td>8120741</td>\n",
       "      <td>1</td>\n",
       "      <td>0</td>\n",
       "      <td>1</td>\n",
       "      <td>1</td>\n",
       "      <td>1</td>\n",
       "      <td>1</td>\n",
       "      <td>0</td>\n",
       "      <td>1</td>\n",
       "      <td>1</td>\n",
       "      <td>...</td>\n",
       "      <td>0</td>\n",
       "      <td>1</td>\n",
       "      <td>1</td>\n",
       "      <td>0</td>\n",
       "      <td>1</td>\n",
       "      <td>0</td>\n",
       "      <td>0</td>\n",
       "      <td>1</td>\n",
       "      <td>0</td>\n",
       "      <td>1</td>\n",
       "    </tr>\n",
       "    <tr>\n",
       "      <th>3</th>\n",
       "      <td>6658624</td>\n",
       "      <td>0</td>\n",
       "      <td>0</td>\n",
       "      <td>1</td>\n",
       "      <td>1</td>\n",
       "      <td>0</td>\n",
       "      <td>0</td>\n",
       "      <td>1</td>\n",
       "      <td>0</td>\n",
       "      <td>1</td>\n",
       "      <td>...</td>\n",
       "      <td>1</td>\n",
       "      <td>0</td>\n",
       "      <td>0</td>\n",
       "      <td>1</td>\n",
       "      <td>0</td>\n",
       "      <td>0</td>\n",
       "      <td>0</td>\n",
       "      <td>0</td>\n",
       "      <td>0</td>\n",
       "      <td>0</td>\n",
       "    </tr>\n",
       "    <tr>\n",
       "      <th>4</th>\n",
       "      <td>788586</td>\n",
       "      <td>0</td>\n",
       "      <td>0</td>\n",
       "      <td>0</td>\n",
       "      <td>0</td>\n",
       "      <td>0</td>\n",
       "      <td>1</td>\n",
       "      <td>1</td>\n",
       "      <td>0</td>\n",
       "      <td>0</td>\n",
       "      <td>...</td>\n",
       "      <td>0</td>\n",
       "      <td>0</td>\n",
       "      <td>0</td>\n",
       "      <td>1</td>\n",
       "      <td>1</td>\n",
       "      <td>0</td>\n",
       "      <td>1</td>\n",
       "      <td>0</td>\n",
       "      <td>1</td>\n",
       "      <td>0</td>\n",
       "    </tr>\n",
       "    <tr>\n",
       "      <th>...</th>\n",
       "      <td>...</td>\n",
       "      <td>...</td>\n",
       "      <td>...</td>\n",
       "      <td>...</td>\n",
       "      <td>...</td>\n",
       "      <td>...</td>\n",
       "      <td>...</td>\n",
       "      <td>...</td>\n",
       "      <td>...</td>\n",
       "      <td>...</td>\n",
       "      <td>...</td>\n",
       "      <td>...</td>\n",
       "      <td>...</td>\n",
       "      <td>...</td>\n",
       "      <td>...</td>\n",
       "      <td>...</td>\n",
       "      <td>...</td>\n",
       "      <td>...</td>\n",
       "      <td>...</td>\n",
       "      <td>...</td>\n",
       "      <td>...</td>\n",
       "    </tr>\n",
       "    <tr>\n",
       "      <th>49995</th>\n",
       "      <td>10572169</td>\n",
       "      <td>1</td>\n",
       "      <td>1</td>\n",
       "      <td>0</td>\n",
       "      <td>1</td>\n",
       "      <td>0</td>\n",
       "      <td>0</td>\n",
       "      <td>0</td>\n",
       "      <td>0</td>\n",
       "      <td>1</td>\n",
       "      <td>...</td>\n",
       "      <td>0</td>\n",
       "      <td>1</td>\n",
       "      <td>1</td>\n",
       "      <td>0</td>\n",
       "      <td>0</td>\n",
       "      <td>0</td>\n",
       "      <td>1</td>\n",
       "      <td>0</td>\n",
       "      <td>0</td>\n",
       "      <td>1</td>\n",
       "    </tr>\n",
       "    <tr>\n",
       "      <th>49996</th>\n",
       "      <td>4619788</td>\n",
       "      <td>1</td>\n",
       "      <td>0</td>\n",
       "      <td>1</td>\n",
       "      <td>0</td>\n",
       "      <td>0</td>\n",
       "      <td>0</td>\n",
       "      <td>1</td>\n",
       "      <td>1</td>\n",
       "      <td>0</td>\n",
       "      <td>...</td>\n",
       "      <td>1</td>\n",
       "      <td>0</td>\n",
       "      <td>0</td>\n",
       "      <td>0</td>\n",
       "      <td>0</td>\n",
       "      <td>0</td>\n",
       "      <td>1</td>\n",
       "      <td>1</td>\n",
       "      <td>0</td>\n",
       "      <td>0</td>\n",
       "    </tr>\n",
       "    <tr>\n",
       "      <th>49997</th>\n",
       "      <td>10619387</td>\n",
       "      <td>0</td>\n",
       "      <td>1</td>\n",
       "      <td>0</td>\n",
       "      <td>1</td>\n",
       "      <td>0</td>\n",
       "      <td>0</td>\n",
       "      <td>0</td>\n",
       "      <td>1</td>\n",
       "      <td>0</td>\n",
       "      <td>...</td>\n",
       "      <td>0</td>\n",
       "      <td>1</td>\n",
       "      <td>1</td>\n",
       "      <td>1</td>\n",
       "      <td>1</td>\n",
       "      <td>1</td>\n",
       "      <td>1</td>\n",
       "      <td>0</td>\n",
       "      <td>1</td>\n",
       "      <td>1</td>\n",
       "    </tr>\n",
       "    <tr>\n",
       "      <th>49998</th>\n",
       "      <td>8289148</td>\n",
       "      <td>1</td>\n",
       "      <td>0</td>\n",
       "      <td>1</td>\n",
       "      <td>1</td>\n",
       "      <td>1</td>\n",
       "      <td>1</td>\n",
       "      <td>1</td>\n",
       "      <td>1</td>\n",
       "      <td>0</td>\n",
       "      <td>...</td>\n",
       "      <td>1</td>\n",
       "      <td>1</td>\n",
       "      <td>0</td>\n",
       "      <td>1</td>\n",
       "      <td>1</td>\n",
       "      <td>1</td>\n",
       "      <td>1</td>\n",
       "      <td>1</td>\n",
       "      <td>0</td>\n",
       "      <td>0</td>\n",
       "    </tr>\n",
       "    <tr>\n",
       "      <th>49999</th>\n",
       "      <td>6617225</td>\n",
       "      <td>1</td>\n",
       "      <td>0</td>\n",
       "      <td>1</td>\n",
       "      <td>1</td>\n",
       "      <td>0</td>\n",
       "      <td>0</td>\n",
       "      <td>1</td>\n",
       "      <td>0</td>\n",
       "      <td>0</td>\n",
       "      <td>...</td>\n",
       "      <td>0</td>\n",
       "      <td>0</td>\n",
       "      <td>1</td>\n",
       "      <td>0</td>\n",
       "      <td>0</td>\n",
       "      <td>0</td>\n",
       "      <td>1</td>\n",
       "      <td>0</td>\n",
       "      <td>0</td>\n",
       "      <td>1</td>\n",
       "    </tr>\n",
       "  </tbody>\n",
       "</table>\n",
       "<p>50000 rows × 26 columns</p>\n",
       "</div>"
      ],
      "text/plain": [
       "             id  resultado  a1_sim  a2_sim  a3_sim  a4_sim  b1_sim  b2_sim  \\\n",
       "0         30677          0       0       0       0       0       0       0   \n",
       "1      14558580          1       1       1       0       1       1       1   \n",
       "2       8120741          1       0       1       1       1       1       0   \n",
       "3       6658624          0       0       1       1       0       0       1   \n",
       "4        788586          0       0       0       0       0       1       1   \n",
       "...         ...        ...     ...     ...     ...     ...     ...     ...   \n",
       "49995  10572169          1       1       0       1       0       0       0   \n",
       "49996   4619788          1       0       1       0       0       0       1   \n",
       "49997  10619387          0       1       0       1       0       0       0   \n",
       "49998   8289148          1       0       1       1       1       1       1   \n",
       "49999   6617225          1       0       1       1       0       0       1   \n",
       "\n",
       "       b3_sim  b4_sim  ...  d4_sim  d5_sim  d6_sim  d7_sim  e1_sim  e2_sim  \\\n",
       "0           0       0  ...       1       1       1       1       0       1   \n",
       "1           1       0  ...       0       1       0       1       1       1   \n",
       "2           1       1  ...       0       1       1       0       1       0   \n",
       "3           0       1  ...       1       0       0       1       0       0   \n",
       "4           0       0  ...       0       0       0       1       1       0   \n",
       "...       ...     ...  ...     ...     ...     ...     ...     ...     ...   \n",
       "49995       0       1  ...       0       1       1       0       0       0   \n",
       "49996       1       0  ...       1       0       0       0       0       0   \n",
       "49997       1       0  ...       0       1       1       1       1       1   \n",
       "49998       1       0  ...       1       1       0       1       1       1   \n",
       "49999       0       0  ...       0       0       1       0       0       0   \n",
       "\n",
       "       e3_sim  e4_sim  e5_sim  e6_sim  \n",
       "0           0       1       0       1  \n",
       "1           0       1       0       0  \n",
       "2           0       1       0       1  \n",
       "3           0       0       0       0  \n",
       "4           1       0       1       0  \n",
       "...       ...     ...     ...     ...  \n",
       "49995       1       0       0       1  \n",
       "49996       1       1       0       0  \n",
       "49997       1       0       1       1  \n",
       "49998       1       1       0       0  \n",
       "49999       1       0       0       1  \n",
       "\n",
       "[50000 rows x 26 columns]"
      ]
     },
     "execution_count": 8,
     "metadata": {},
     "output_type": "execute_result"
    }
   ],
   "source": [
    "dummies = pd.get_dummies(df,\n",
    "                         columns=['a1', 'a2', 'a3', 'a4',\n",
    "                                  'b1', 'b2', 'b3', 'b4', 'b5',\n",
    "                                  'c1', 'c2',\n",
    "                                  'd1', 'd2', 'd3', 'd4', 'd5', 'd6', 'd7',\n",
    "                                  'e1', 'e2', 'e3', 'e4', 'e5', 'e6'],\n",
    "                         dtype=int,\n",
    "                         drop_first=True)\n",
    "dummies\n",
    "\n",
    "# Cria variáveis dummies (one-hot-encoding) utilizando a função get_dummies() do Pandas;\n",
    "# As colunas passam a ser binárias e do tipo inteiros;\n",
    "# 0 representa a ausência do critério diagnóstico;\n",
    "# 1 representa a presença do critério diagnóstico;\n",
    "# A primeira categoria de cada coluna é desconsiderada para evitar multicolinearidade."
   ]
  },
  {
   "cell_type": "code",
   "execution_count": 9,
   "id": "9efd435b",
   "metadata": {},
   "outputs": [],
   "source": [
    "X = dummies.drop(['id', 'resultado'], axis=1)\n",
    "y = dummies['resultado']\n",
    "\n",
    "# Armazena em X todas as colunas do dataset, exceto id e resultado;\n",
    "# Armazena em y a coluna resultado que será utilizada como rótulo."
   ]
  },
  {
   "cell_type": "code",
   "execution_count": 10,
   "id": "137cc5a4",
   "metadata": {},
   "outputs": [],
   "source": [
    "from sklearn.model_selection import train_test_split\n",
    "from sklearn.linear_model import LogisticRegression\n",
    "from sklearn.metrics import accuracy_score, confusion_matrix, classification_report, roc_curve, auc\n",
    "\n",
    "# Importação da biblioteca que será utilizada para a criação e avaliação do modelo."
   ]
  },
  {
   "cell_type": "code",
   "execution_count": 36,
   "id": "32936e61",
   "metadata": {},
   "outputs": [],
   "source": [
    "import seaborn as sns\n",
    "import matplotlib.pyplot as plt\n",
    "import matplotlib.ticker as mtick\n",
    "import matplotlib.cm as cm\n",
    "from scipy.special import expit\n",
    "\n",
    "# Importa bibliotecas que serão utilizadas na visualização dos dados."
   ]
  },
  {
   "cell_type": "code",
   "execution_count": 11,
   "id": "ced920bf",
   "metadata": {},
   "outputs": [],
   "source": [
    "X_train, X_test, y_train, y_test = train_test_split(X, y, test_size=0.2, random_state=42)\n",
    "\n",
    "# Divide o dataset em conjuntos de treinamento (80%) e teste (20%), considerando a definição de X e y feita anteriormente."
   ]
  },
  {
   "cell_type": "code",
   "execution_count": 12,
   "id": "1d9fab5d",
   "metadata": {},
   "outputs": [],
   "source": [
    "modelo = LogisticRegression()\n",
    "\n",
    "# Define o modelo de regressão logística."
   ]
  },
  {
   "cell_type": "code",
   "execution_count": 13,
   "id": "3ebee143",
   "metadata": {},
   "outputs": [
    {
     "data": {
      "text/html": [
       "<style>#sk-container-id-1 {color: black;background-color: white;}#sk-container-id-1 pre{padding: 0;}#sk-container-id-1 div.sk-toggleable {background-color: white;}#sk-container-id-1 label.sk-toggleable__label {cursor: pointer;display: block;width: 100%;margin-bottom: 0;padding: 0.3em;box-sizing: border-box;text-align: center;}#sk-container-id-1 label.sk-toggleable__label-arrow:before {content: \"▸\";float: left;margin-right: 0.25em;color: #696969;}#sk-container-id-1 label.sk-toggleable__label-arrow:hover:before {color: black;}#sk-container-id-1 div.sk-estimator:hover label.sk-toggleable__label-arrow:before {color: black;}#sk-container-id-1 div.sk-toggleable__content {max-height: 0;max-width: 0;overflow: hidden;text-align: left;background-color: #f0f8ff;}#sk-container-id-1 div.sk-toggleable__content pre {margin: 0.2em;color: black;border-radius: 0.25em;background-color: #f0f8ff;}#sk-container-id-1 input.sk-toggleable__control:checked~div.sk-toggleable__content {max-height: 200px;max-width: 100%;overflow: auto;}#sk-container-id-1 input.sk-toggleable__control:checked~label.sk-toggleable__label-arrow:before {content: \"▾\";}#sk-container-id-1 div.sk-estimator input.sk-toggleable__control:checked~label.sk-toggleable__label {background-color: #d4ebff;}#sk-container-id-1 div.sk-label input.sk-toggleable__control:checked~label.sk-toggleable__label {background-color: #d4ebff;}#sk-container-id-1 input.sk-hidden--visually {border: 0;clip: rect(1px 1px 1px 1px);clip: rect(1px, 1px, 1px, 1px);height: 1px;margin: -1px;overflow: hidden;padding: 0;position: absolute;width: 1px;}#sk-container-id-1 div.sk-estimator {font-family: monospace;background-color: #f0f8ff;border: 1px dotted black;border-radius: 0.25em;box-sizing: border-box;margin-bottom: 0.5em;}#sk-container-id-1 div.sk-estimator:hover {background-color: #d4ebff;}#sk-container-id-1 div.sk-parallel-item::after {content: \"\";width: 100%;border-bottom: 1px solid gray;flex-grow: 1;}#sk-container-id-1 div.sk-label:hover label.sk-toggleable__label {background-color: #d4ebff;}#sk-container-id-1 div.sk-serial::before {content: \"\";position: absolute;border-left: 1px solid gray;box-sizing: border-box;top: 0;bottom: 0;left: 50%;z-index: 0;}#sk-container-id-1 div.sk-serial {display: flex;flex-direction: column;align-items: center;background-color: white;padding-right: 0.2em;padding-left: 0.2em;position: relative;}#sk-container-id-1 div.sk-item {position: relative;z-index: 1;}#sk-container-id-1 div.sk-parallel {display: flex;align-items: stretch;justify-content: center;background-color: white;position: relative;}#sk-container-id-1 div.sk-item::before, #sk-container-id-1 div.sk-parallel-item::before {content: \"\";position: absolute;border-left: 1px solid gray;box-sizing: border-box;top: 0;bottom: 0;left: 50%;z-index: -1;}#sk-container-id-1 div.sk-parallel-item {display: flex;flex-direction: column;z-index: 1;position: relative;background-color: white;}#sk-container-id-1 div.sk-parallel-item:first-child::after {align-self: flex-end;width: 50%;}#sk-container-id-1 div.sk-parallel-item:last-child::after {align-self: flex-start;width: 50%;}#sk-container-id-1 div.sk-parallel-item:only-child::after {width: 0;}#sk-container-id-1 div.sk-dashed-wrapped {border: 1px dashed gray;margin: 0 0.4em 0.5em 0.4em;box-sizing: border-box;padding-bottom: 0.4em;background-color: white;}#sk-container-id-1 div.sk-label label {font-family: monospace;font-weight: bold;display: inline-block;line-height: 1.2em;}#sk-container-id-1 div.sk-label-container {text-align: center;}#sk-container-id-1 div.sk-container {/* jupyter's `normalize.less` sets `[hidden] { display: none; }` but bootstrap.min.css set `[hidden] { display: none !important; }` so we also need the `!important` here to be able to override the default hidden behavior on the sphinx rendered scikit-learn.org. See: https://github.com/scikit-learn/scikit-learn/issues/21755 */display: inline-block !important;position: relative;}#sk-container-id-1 div.sk-text-repr-fallback {display: none;}</style><div id=\"sk-container-id-1\" class=\"sk-top-container\"><div class=\"sk-text-repr-fallback\"><pre>LogisticRegression()</pre><b>In a Jupyter environment, please rerun this cell to show the HTML representation or trust the notebook. <br />On GitHub, the HTML representation is unable to render, please try loading this page with nbviewer.org.</b></div><div class=\"sk-container\" hidden><div class=\"sk-item\"><div class=\"sk-estimator sk-toggleable\"><input class=\"sk-toggleable__control sk-hidden--visually\" id=\"sk-estimator-id-1\" type=\"checkbox\" checked><label for=\"sk-estimator-id-1\" class=\"sk-toggleable__label sk-toggleable__label-arrow\">LogisticRegression</label><div class=\"sk-toggleable__content\"><pre>LogisticRegression()</pre></div></div></div></div></div>"
      ],
      "text/plain": [
       "LogisticRegression()"
      ]
     },
     "execution_count": 13,
     "metadata": {},
     "output_type": "execute_result"
    }
   ],
   "source": [
    "modelo.fit(X_train, y_train)\n",
    "\n",
    "# Treina o modelo com os dados de treinamento."
   ]
  },
  {
   "cell_type": "code",
   "execution_count": 14,
   "id": "d9946ba6",
   "metadata": {},
   "outputs": [],
   "source": [
    "y_pred = modelo.predict(X_test)\n",
    "\n",
    "# Faz previsões com os dados de teste e armazena o resultado (em uma array) na variável y_pred."
   ]
  },
  {
   "cell_type": "code",
   "execution_count": 15,
   "id": "5f51dcdc",
   "metadata": {},
   "outputs": [],
   "source": [
    "y_prob = modelo.predict_proba(X_test)[:, 1]\n",
    "\n",
    "# Probabilidades preditas da classe 1."
   ]
  },
  {
   "cell_type": "code",
   "execution_count": 18,
   "id": "a56684ae",
   "metadata": {},
   "outputs": [
    {
     "name": "stdout",
     "output_type": "stream",
     "text": [
      "Acurácia do modelo: 0.8181\n"
     ]
    }
   ],
   "source": [
    "acuracia = accuracy_score(y_test, y_pred)\n",
    "print(f'Acurácia do modelo: {acuracia}')\n",
    "\n",
    "# Avalia e exibe a precisão do modelo treinado."
   ]
  },
  {
   "cell_type": "code",
   "execution_count": 19,
   "id": "6e293d5c",
   "metadata": {},
   "outputs": [
    {
     "name": "stdout",
     "output_type": "stream",
     "text": [
      "Matriz de confusão:\n",
      "[[3293 1032]\n",
      " [ 787 4888]]\n"
     ]
    }
   ],
   "source": [
    "mc = confusion_matrix(y_test, y_pred)\n",
    "print('Matriz de confusão:')\n",
    "print(mc)\n",
    "\n",
    "# Cria e exibe uma matriz de confusão (avaliação do desempenho do modelo em relação a cada classe real e prevista)."
   ]
  },
  {
   "cell_type": "code",
   "execution_count": 59,
   "id": "b6b71776",
   "metadata": {},
   "outputs": [
    {
     "data": {
      "image/png": "[encoded data removed]",
      "text/plain": [
       "<Figure size 640x480 with 2 Axes>"
      ]
     },
     "metadata": {},
     "output_type": "display_data"
    }
   ],
   "source": [
    "sns.heatmap(mc, annot=True, fmt='d', cmap='Greys')\n",
    "plt.title('Modelo 1: Matriz de Confusão')\n",
    "plt.ylabel('Classe Verdadeira')\n",
    "plt.xlabel('Classe Predita')\n",
    "plt.savefig('modelo1_mc.png')\n",
    "plt.show()"
   ]
  },
  {
   "cell_type": "code",
   "execution_count": 20,
   "id": "ba3b3add",
   "metadata": {},
   "outputs": [
    {
     "name": "stdout",
     "output_type": "stream",
     "text": [
      "Relatório de classificação:\n",
      "              precision    recall  f1-score   support\n",
      "\n",
      "           0       0.81      0.76      0.78      4325\n",
      "           1       0.83      0.86      0.84      5675\n",
      "\n",
      "    accuracy                           0.82     10000\n",
      "   macro avg       0.82      0.81      0.81     10000\n",
      "weighted avg       0.82      0.82      0.82     10000\n",
      "\n"
     ]
    }
   ],
   "source": [
    "report = classification_report(y_test, y_pred)\n",
    "print('Relatório de classificação:')\n",
    "print(report)\n",
    "\n",
    "# Cria e exibe um relatório de classificação com métricas de desempenho do modelo e de cada classe."
   ]
  },
  {
   "cell_type": "code",
   "execution_count": 60,
   "id": "a544c568",
   "metadata": {},
   "outputs": [
    {
     "data": {
      "image/png": "[encoded data removed]",
      "text/plain": [
       "<Figure size 640x480 with 1 Axes>"
      ]
     },
     "metadata": {},
     "output_type": "display_data"
    }
   ],
   "source": [
    "classes = ['Não TEPT', 'TEPT']\n",
    "precision = [0.81, 0.83]\n",
    "recall = [0.76, 0.86]\n",
    "f1_score = [0.78, 0.84]\n",
    "\n",
    "eixo_x = np.arange(len(classes))\n",
    "width = 0.2\n",
    "\n",
    "fig, ax = plt.subplots()\n",
    "ax.bar(eixo_x - width, precision, width, label='Precision', color='dimgrey')\n",
    "ax.bar(eixo_x, recall, width, label='Recall', color='darkgrey')\n",
    "ax.bar(eixo_x + width, f1_score, width, label='F1-Score', color='lightgrey')\n",
    "\n",
    "ax.set_xlabel('Classes')\n",
    "ax.set_ylabel('Score')\n",
    "ax.set_title('Modelo 1: Precision, Recall e F1-Score por Classe')\n",
    "ax.set_xticks(eixo_x)\n",
    "ax.set_xticklabels(classes)\n",
    "ax.legend()\n",
    "\n",
    "plt.savefig('modelo1_metricas.png')\n",
    "plt.show()\n",
    "\n",
    "# Cria um gráfico de barras com as métricas obtidas no relatório de classificação."
   ]
  },
  {
   "cell_type": "code",
   "execution_count": 16,
   "id": "7762266f",
   "metadata": {},
   "outputs": [],
   "source": [
    "fpr, tpr, thresholds = roc_curve(y_test, y_prob)\n",
    "\n",
    "# Calcula curva ROC."
   ]
  },
  {
   "cell_type": "code",
   "execution_count": 17,
   "id": "02f107dc",
   "metadata": {},
   "outputs": [],
   "source": [
    "roc_auc = auc(fpr, tpr)\n",
    "\n",
    "# Calcula AUC."
   ]
  },
  {
   "cell_type": "code",
   "execution_count": 61,
   "id": "47d9dd17",
   "metadata": {},
   "outputs": [
    {
     "data": {
      "image/png": "[encoded data removed]",
      "text/plain": [
       "<Figure size 640x480 with 1 Axes>"
      ]
     },
     "metadata": {},
     "output_type": "display_data"
    }
   ],
   "source": [
    "plt.figure()\n",
    "plt.plot(fpr, tpr, color='yellowgreen', label=f'Curva ROC (AUC = {roc_auc:.2f})')\n",
    "plt.plot([0, 1], [0, 1], color='gray', linestyle='--')\n",
    "plt.xlim([0.0, 1.0])\n",
    "plt.ylim([0.0, 1.05])\n",
    "plt.xlabel('Taxa de Falso Positivo')\n",
    "plt.ylabel('Taxa de Verdadeiro Positivo')\n",
    "plt.title('Modelo 1: Receiver Operating Characteristic')\n",
    "plt.legend(loc='lower right')\n",
    "plt.savefig('modelo1_roc.png')\n",
    "plt.show()\n",
    "\n",
    "# Visualização da curva ROC."
   ]
  },
  {
   "cell_type": "code",
   "execution_count": 21,
   "id": "8efe1b86",
   "metadata": {},
   "outputs": [],
   "source": [
    "y_pred2 = (y_prob >= 0.60).astype(int)\n",
    "\n",
    "# Cutoff de 0,60."
   ]
  },
  {
   "cell_type": "code",
   "execution_count": 22,
   "id": "01133e3f",
   "metadata": {},
   "outputs": [
    {
     "name": "stdout",
     "output_type": "stream",
     "text": [
      "Acurácia do modelo: 0.7877\n"
     ]
    }
   ],
   "source": [
    "acuracia2 = accuracy_score(y_test, y_pred2)\n",
    "print(f'Acurácia do modelo: {acuracia2}')\n",
    "\n",
    "# Avalia e exibe a precisão do modelo treinado para cutoff de 0,60."
   ]
  },
  {
   "cell_type": "code",
   "execution_count": 23,
   "id": "b230953c",
   "metadata": {},
   "outputs": [],
   "source": [
    "y_pred3 = (y_prob >= 0.70).astype(int)\n",
    "\n",
    "# Cutoff de 0,70."
   ]
  },
  {
   "cell_type": "code",
   "execution_count": 24,
   "id": "b18351ec",
   "metadata": {},
   "outputs": [
    {
     "name": "stdout",
     "output_type": "stream",
     "text": [
      "Acurácia do modelo: 0.742\n"
     ]
    }
   ],
   "source": [
    "acuracia3 = accuracy_score(y_test, y_pred3)\n",
    "print(f'Acurácia do modelo: {acuracia3}')\n",
    "\n",
    "# Avalia e exibe a precisão do modelo treinado para cutoff de 0,70."
   ]
  },
  {
   "cell_type": "code",
   "execution_count": 25,
   "id": "a843ada5",
   "metadata": {},
   "outputs": [
    {
     "name": "stdout",
     "output_type": "stream",
     "text": [
      "Intercepto do modelo: [-7.27017371]\n"
     ]
    }
   ],
   "source": [
    "print(f'Intercepto do modelo: {modelo.intercept_}')"
   ]
  },
  {
   "cell_type": "code",
   "execution_count": 26,
   "id": "4fefc094",
   "metadata": {},
   "outputs": [
    {
     "name": "stdout",
     "output_type": "stream",
     "text": [
      "Coeficientes do modelo: [[0.48689938 0.56088679 0.54876284 0.56419239 0.21672806 0.23483351\n",
      "  0.24919743 0.22111308 0.26223404 2.5097258  2.50479687 0.4172121\n",
      "  0.46047366 0.44855806 0.38223469 0.39238823 0.38473426 0.43968777\n",
      "  0.69334235 0.72231164 0.74426992 0.71070522 0.677436   0.6961613 ]]\n"
     ]
    }
   ],
   "source": [
    "print(f'Coeficientes do modelo: {modelo.coef_}')"
   ]
  },
  {
   "cell_type": "code",
   "execution_count": 27,
   "id": "837f3c28",
   "metadata": {},
   "outputs": [
    {
     "name": "stdout",
     "output_type": "stream",
     "text": [
      "Probabilidades preditas: [0.49421077 0.15077198 0.45338431 ... 0.10442715 0.71100171 0.88668574]\n"
     ]
    }
   ],
   "source": [
    "print(f'Probabilidades preditas: {y_prob}')"
   ]
  },
  {
   "cell_type": "code",
   "execution_count": 62,
   "id": "89648005",
   "metadata": {},
   "outputs": [],
   "source": [
    "import statsmodels.api as sm\n",
    "\n",
    "# Importa a biblioteca Statsmodels."
   ]
  },
  {
   "cell_type": "code",
   "execution_count": 63,
   "id": "7ffd0c6b",
   "metadata": {},
   "outputs": [],
   "source": [
    "X_train_sm = sm.add_constant(X_train)\n",
    "\n",
    "# Adiciona uma constante (intercepto) ao modelo."
   ]
  },
  {
   "cell_type": "code",
   "execution_count": 64,
   "id": "b1860f09",
   "metadata": {},
   "outputs": [
    {
     "name": "stdout",
     "output_type": "stream",
     "text": [
      "Optimization terminated successfully.\n",
      "         Current function value: 0.429291\n",
      "         Iterations 7\n"
     ]
    }
   ],
   "source": [
    "modelo_sm = sm.Logit(y_train, X_train_sm).fit()\n",
    "\n",
    "# Treino do modelo utilizando Statsmodels."
   ]
  },
  {
   "cell_type": "code",
   "execution_count": 31,
   "id": "bcf4b4d7",
   "metadata": {},
   "outputs": [
    {
     "name": "stdout",
     "output_type": "stream",
     "text": [
      "                           Logit Regression Results                           \n",
      "==============================================================================\n",
      "Dep. Variable:              resultado   No. Observations:                40000\n",
      "Model:                          Logit   Df Residuals:                    39975\n",
      "Method:                           MLE   Df Model:                           24\n",
      "Date:                Thu, 12 Sep 2024   Pseudo R-squ.:                  0.3713\n",
      "Time:                        08:42:08   Log-Likelihood:                -17172.\n",
      "converged:                       True   LL-Null:                       -27315.\n",
      "Covariance Type:            nonrobust   LLR p-value:                     0.000\n",
      "==============================================================================\n",
      "                 coef    std err          z      P>|z|      [0.025      0.975]\n",
      "------------------------------------------------------------------------------\n",
      "const         -7.2841      0.089    -82.107      0.000      -7.458      -7.110\n",
      "a1_sim         0.4878      0.027     18.056      0.000       0.435       0.541\n",
      "a2_sim         0.5620      0.027     20.752      0.000       0.509       0.615\n",
      "a3_sim         0.5498      0.027     20.314      0.000       0.497       0.603\n",
      "a4_sim         0.5653      0.027     20.860      0.000       0.512       0.618\n",
      "b1_sim         0.2172      0.027      8.080      0.000       0.164       0.270\n",
      "b2_sim         0.2353      0.027      8.756      0.000       0.183       0.288\n",
      "b3_sim         0.2497      0.027      9.285      0.000       0.197       0.302\n",
      "b4_sim         0.2215      0.027      8.244      0.000       0.169       0.274\n",
      "b5_sim         0.2628      0.027      9.768      0.000       0.210       0.316\n",
      "c1_sim         2.5142      0.031     80.355      0.000       2.453       2.576\n",
      "c2_sim         2.5093      0.031     80.144      0.000       2.448       2.571\n",
      "d1_sim         0.4180      0.027     15.498      0.000       0.365       0.471\n",
      "d2_sim         0.4614      0.027     17.079      0.000       0.408       0.514\n",
      "d3_sim         0.4494      0.027     16.659      0.000       0.397       0.502\n",
      "d4_sim         0.3830      0.027     14.209      0.000       0.330       0.436\n",
      "d5_sim         0.3932      0.027     14.582      0.000       0.340       0.446\n",
      "d6_sim         0.3854      0.027     14.310      0.000       0.333       0.438\n",
      "d7_sim         0.4405      0.027     16.338      0.000       0.388       0.493\n",
      "e1_sim         0.6947      0.027     25.535      0.000       0.641       0.748\n",
      "e2_sim         0.7237      0.027     26.596      0.000       0.670       0.777\n",
      "e3_sim         0.7457      0.027     27.327      0.000       0.692       0.799\n",
      "e4_sim         0.7120      0.027     26.172      0.000       0.659       0.765\n",
      "e5_sim         0.6787      0.027     24.934      0.000       0.625       0.732\n",
      "e6_sim         0.6975      0.027     25.597      0.000       0.644       0.751\n",
      "==============================================================================\n"
     ]
    }
   ],
   "source": [
    "print(modelo_sm.summary())"
   ]
  }
 ],
 "metadata": {
  "kernelspec": {
   "display_name": "Python 3 (ipykernel)",
   "language": "python",
   "name": "python3"
  },
  "language_info": {
   "codemirror_mode": {
    "name": "ipython",
    "version": 3
   },
   "file_extension": ".py",
   "mimetype": "text/x-python",
   "name": "python",
   "nbconvert_exporter": "python",
   "pygments_lexer": "ipython3",
   "version": "3.10.9"
  }
 },
 "nbformat": 4,
 "nbformat_minor": 5
}
