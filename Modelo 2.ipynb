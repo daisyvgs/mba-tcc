{
 "cells": [
  {
   "cell_type": "markdown",
   "id": "5e50bbd4",
   "metadata": {},
   "source": [
    " ## Implementação do segundo algoritmo\n",
    " ### Diagnóstico de TEPT\n",
    " #### Modelo Logístico Binário\n",
    " Variáveis quantitativas"
   ]
  },
  {
   "cell_type": "code",
   "execution_count": 1,
   "id": "c5146408",
   "metadata": {},
   "outputs": [],
   "source": [
    "import pandas as pd\n",
    "import numpy as np\n",
    "\n",
    "# Importa as bibliotecas Pandas e Numpy."
   ]
  },
  {
   "cell_type": "code",
   "execution_count": 2,
   "id": "23b05ed0",
   "metadata": {},
   "outputs": [
    {
     "data": {
      "text/html": [
       "<div>\n",
       "<style scoped>\n",
       "    .dataframe tbody tr th:only-of-type {\n",
       "        vertical-align: middle;\n",
       "    }\n",
       "\n",
       "    .dataframe tbody tr th {\n",
       "        vertical-align: top;\n",
       "    }\n",
       "\n",
       "    .dataframe thead th {\n",
       "        text-align: right;\n",
       "    }\n",
       "</style>\n",
       "<table border=\"1\" class=\"dataframe\">\n",
       "  <thead>\n",
       "    <tr style=\"text-align: right;\">\n",
       "      <th></th>\n",
       "      <th>crit_a</th>\n",
       "      <th>crit_b</th>\n",
       "      <th>crit_c</th>\n",
       "      <th>crit_d</th>\n",
       "      <th>crit_e</th>\n",
       "      <th>tept</th>\n",
       "    </tr>\n",
       "  </thead>\n",
       "  <tbody>\n",
       "    <tr>\n",
       "      <th>0</th>\n",
       "      <td>0</td>\n",
       "      <td>0</td>\n",
       "      <td>2</td>\n",
       "      <td>6</td>\n",
       "      <td>3</td>\n",
       "      <td>0</td>\n",
       "    </tr>\n",
       "    <tr>\n",
       "      <th>1</th>\n",
       "      <td>3</td>\n",
       "      <td>3</td>\n",
       "      <td>1</td>\n",
       "      <td>3</td>\n",
       "      <td>3</td>\n",
       "      <td>1</td>\n",
       "    </tr>\n",
       "    <tr>\n",
       "      <th>2</th>\n",
       "      <td>3</td>\n",
       "      <td>4</td>\n",
       "      <td>2</td>\n",
       "      <td>3</td>\n",
       "      <td>3</td>\n",
       "      <td>1</td>\n",
       "    </tr>\n",
       "    <tr>\n",
       "      <th>3</th>\n",
       "      <td>2</td>\n",
       "      <td>3</td>\n",
       "      <td>0</td>\n",
       "      <td>4</td>\n",
       "      <td>0</td>\n",
       "      <td>0</td>\n",
       "    </tr>\n",
       "    <tr>\n",
       "      <th>4</th>\n",
       "      <td>0</td>\n",
       "      <td>2</td>\n",
       "      <td>0</td>\n",
       "      <td>2</td>\n",
       "      <td>3</td>\n",
       "      <td>0</td>\n",
       "    </tr>\n",
       "    <tr>\n",
       "      <th>...</th>\n",
       "      <td>...</td>\n",
       "      <td>...</td>\n",
       "      <td>...</td>\n",
       "      <td>...</td>\n",
       "      <td>...</td>\n",
       "      <td>...</td>\n",
       "    </tr>\n",
       "    <tr>\n",
       "      <th>49995</th>\n",
       "      <td>2</td>\n",
       "      <td>1</td>\n",
       "      <td>1</td>\n",
       "      <td>3</td>\n",
       "      <td>2</td>\n",
       "      <td>1</td>\n",
       "    </tr>\n",
       "    <tr>\n",
       "      <th>49996</th>\n",
       "      <td>1</td>\n",
       "      <td>2</td>\n",
       "      <td>2</td>\n",
       "      <td>4</td>\n",
       "      <td>2</td>\n",
       "      <td>1</td>\n",
       "    </tr>\n",
       "    <tr>\n",
       "      <th>49997</th>\n",
       "      <td>2</td>\n",
       "      <td>1</td>\n",
       "      <td>0</td>\n",
       "      <td>4</td>\n",
       "      <td>5</td>\n",
       "      <td>0</td>\n",
       "    </tr>\n",
       "    <tr>\n",
       "      <th>49998</th>\n",
       "      <td>3</td>\n",
       "      <td>3</td>\n",
       "      <td>2</td>\n",
       "      <td>5</td>\n",
       "      <td>4</td>\n",
       "      <td>1</td>\n",
       "    </tr>\n",
       "    <tr>\n",
       "      <th>49999</th>\n",
       "      <td>2</td>\n",
       "      <td>2</td>\n",
       "      <td>2</td>\n",
       "      <td>3</td>\n",
       "      <td>2</td>\n",
       "      <td>1</td>\n",
       "    </tr>\n",
       "  </tbody>\n",
       "</table>\n",
       "<p>50000 rows × 6 columns</p>\n",
       "</div>"
      ],
      "text/plain": [
       "       crit_a  crit_b  crit_c  crit_d  crit_e  tept\n",
       "0           0       0       2       6       3     0\n",
       "1           3       3       1       3       3     1\n",
       "2           3       4       2       3       3     1\n",
       "3           2       3       0       4       0     0\n",
       "4           0       2       0       2       3     0\n",
       "...       ...     ...     ...     ...     ...   ...\n",
       "49995       2       1       1       3       2     1\n",
       "49996       1       2       2       4       2     1\n",
       "49997       2       1       0       4       5     0\n",
       "49998       3       3       2       5       4     1\n",
       "49999       2       2       2       3       2     1\n",
       "\n",
       "[50000 rows x 6 columns]"
      ]
     },
     "execution_count": 2,
     "metadata": {},
     "output_type": "execute_result"
    }
   ],
   "source": [
    "df = pd.read_csv('tept_2.csv')\n",
    "df\n",
    "\n",
    "# Exibe dataset atribuído a df."
   ]
  },
  {
   "cell_type": "code",
   "execution_count": 3,
   "id": "d15a715d",
   "metadata": {},
   "outputs": [
    {
     "data": {
      "text/plain": [
       "0    21462\n",
       "1    28538\n",
       "Name: tept, dtype: int64"
      ]
     },
     "execution_count": 3,
     "metadata": {},
     "output_type": "execute_result"
    }
   ],
   "source": [
    "df['tept'].value_counts().sort_index()\n",
    "\n",
    "# Frequência de casos negativos e positivos de TEPT, identificados como 0 e 1, respectivamente."
   ]
  },
  {
   "cell_type": "code",
   "execution_count": 4,
   "id": "e20d8d54",
   "metadata": {
    "scrolled": false
   },
   "outputs": [
    {
     "name": "stdout",
     "output_type": "stream",
     "text": [
      "<class 'pandas.core.frame.DataFrame'>\n",
      "RangeIndex: 50000 entries, 0 to 49999\n",
      "Data columns (total 6 columns):\n",
      " #   Column  Non-Null Count  Dtype\n",
      "---  ------  --------------  -----\n",
      " 0   crit_a  50000 non-null  int64\n",
      " 1   crit_b  50000 non-null  int64\n",
      " 2   crit_c  50000 non-null  int64\n",
      " 3   crit_d  50000 non-null  int64\n",
      " 4   crit_e  50000 non-null  int64\n",
      " 5   tept    50000 non-null  int64\n",
      "dtypes: int64(6)\n",
      "memory usage: 2.3 MB\n"
     ]
    }
   ],
   "source": [
    "df.info()\n",
    "\n",
    "# Exibe um resumo dos dados."
   ]
  },
  {
   "cell_type": "code",
   "execution_count": 5,
   "id": "c54b4ec5",
   "metadata": {},
   "outputs": [],
   "source": [
    "X = df.drop(['tept'], axis=1)\n",
    "y = df['tept']\n",
    "\n",
    "# Armazena em X todas as colunas do dataset, exceto tept;\n",
    "# Armazena em y a coluna tept que será utilizada como rótulo."
   ]
  },
  {
   "cell_type": "code",
   "execution_count": 6,
   "id": "0929ebb3",
   "metadata": {},
   "outputs": [
    {
     "data": {
      "text/html": [
       "<div>\n",
       "<style scoped>\n",
       "    .dataframe tbody tr th:only-of-type {\n",
       "        vertical-align: middle;\n",
       "    }\n",
       "\n",
       "    .dataframe tbody tr th {\n",
       "        vertical-align: top;\n",
       "    }\n",
       "\n",
       "    .dataframe thead th {\n",
       "        text-align: right;\n",
       "    }\n",
       "</style>\n",
       "<table border=\"1\" class=\"dataframe\">\n",
       "  <thead>\n",
       "    <tr style=\"text-align: right;\">\n",
       "      <th></th>\n",
       "      <th>crit_a</th>\n",
       "      <th>crit_b</th>\n",
       "      <th>crit_c</th>\n",
       "      <th>crit_d</th>\n",
       "      <th>crit_e</th>\n",
       "    </tr>\n",
       "  </thead>\n",
       "  <tbody>\n",
       "    <tr>\n",
       "      <th>0</th>\n",
       "      <td>0</td>\n",
       "      <td>0</td>\n",
       "      <td>2</td>\n",
       "      <td>6</td>\n",
       "      <td>3</td>\n",
       "    </tr>\n",
       "    <tr>\n",
       "      <th>1</th>\n",
       "      <td>3</td>\n",
       "      <td>3</td>\n",
       "      <td>1</td>\n",
       "      <td>3</td>\n",
       "      <td>3</td>\n",
       "    </tr>\n",
       "    <tr>\n",
       "      <th>2</th>\n",
       "      <td>3</td>\n",
       "      <td>4</td>\n",
       "      <td>2</td>\n",
       "      <td>3</td>\n",
       "      <td>3</td>\n",
       "    </tr>\n",
       "    <tr>\n",
       "      <th>3</th>\n",
       "      <td>2</td>\n",
       "      <td>3</td>\n",
       "      <td>0</td>\n",
       "      <td>4</td>\n",
       "      <td>0</td>\n",
       "    </tr>\n",
       "    <tr>\n",
       "      <th>4</th>\n",
       "      <td>0</td>\n",
       "      <td>2</td>\n",
       "      <td>0</td>\n",
       "      <td>2</td>\n",
       "      <td>3</td>\n",
       "    </tr>\n",
       "    <tr>\n",
       "      <th>...</th>\n",
       "      <td>...</td>\n",
       "      <td>...</td>\n",
       "      <td>...</td>\n",
       "      <td>...</td>\n",
       "      <td>...</td>\n",
       "    </tr>\n",
       "    <tr>\n",
       "      <th>49995</th>\n",
       "      <td>2</td>\n",
       "      <td>1</td>\n",
       "      <td>1</td>\n",
       "      <td>3</td>\n",
       "      <td>2</td>\n",
       "    </tr>\n",
       "    <tr>\n",
       "      <th>49996</th>\n",
       "      <td>1</td>\n",
       "      <td>2</td>\n",
       "      <td>2</td>\n",
       "      <td>4</td>\n",
       "      <td>2</td>\n",
       "    </tr>\n",
       "    <tr>\n",
       "      <th>49997</th>\n",
       "      <td>2</td>\n",
       "      <td>1</td>\n",
       "      <td>0</td>\n",
       "      <td>4</td>\n",
       "      <td>5</td>\n",
       "    </tr>\n",
       "    <tr>\n",
       "      <th>49998</th>\n",
       "      <td>3</td>\n",
       "      <td>3</td>\n",
       "      <td>2</td>\n",
       "      <td>5</td>\n",
       "      <td>4</td>\n",
       "    </tr>\n",
       "    <tr>\n",
       "      <th>49999</th>\n",
       "      <td>2</td>\n",
       "      <td>2</td>\n",
       "      <td>2</td>\n",
       "      <td>3</td>\n",
       "      <td>2</td>\n",
       "    </tr>\n",
       "  </tbody>\n",
       "</table>\n",
       "<p>50000 rows × 5 columns</p>\n",
       "</div>"
      ],
      "text/plain": [
       "       crit_a  crit_b  crit_c  crit_d  crit_e\n",
       "0           0       0       2       6       3\n",
       "1           3       3       1       3       3\n",
       "2           3       4       2       3       3\n",
       "3           2       3       0       4       0\n",
       "4           0       2       0       2       3\n",
       "...       ...     ...     ...     ...     ...\n",
       "49995       2       1       1       3       2\n",
       "49996       1       2       2       4       2\n",
       "49997       2       1       0       4       5\n",
       "49998       3       3       2       5       4\n",
       "49999       2       2       2       3       2\n",
       "\n",
       "[50000 rows x 5 columns]"
      ]
     },
     "execution_count": 6,
     "metadata": {},
     "output_type": "execute_result"
    }
   ],
   "source": [
    "X"
   ]
  },
  {
   "cell_type": "code",
   "execution_count": 7,
   "id": "19c8ec9b",
   "metadata": {},
   "outputs": [
    {
     "data": {
      "text/plain": [
       "0        0\n",
       "1        1\n",
       "2        1\n",
       "3        0\n",
       "4        0\n",
       "        ..\n",
       "49995    1\n",
       "49996    1\n",
       "49997    0\n",
       "49998    1\n",
       "49999    1\n",
       "Name: tept, Length: 50000, dtype: int64"
      ]
     },
     "execution_count": 7,
     "metadata": {},
     "output_type": "execute_result"
    }
   ],
   "source": [
    "y"
   ]
  },
  {
   "cell_type": "code",
   "execution_count": 8,
   "id": "47564ff5",
   "metadata": {},
   "outputs": [],
   "source": [
    "from sklearn.model_selection import train_test_split\n",
    "from sklearn.linear_model import LogisticRegression\n",
    "from sklearn.metrics import accuracy_score, confusion_matrix, classification_report, roc_curve, auc\n",
    "\n",
    "# Importação da biblioteca que será utilizada para a criação e avaliação do modelo."
   ]
  },
  {
   "cell_type": "code",
   "execution_count": 9,
   "id": "345d696e",
   "metadata": {},
   "outputs": [],
   "source": [
    "import seaborn as sns\n",
    "import matplotlib.pyplot as plt\n",
    "import matplotlib.ticker as mtick\n",
    "import matplotlib.cm as cm\n",
    "from scipy.special import expit\n",
    "\n",
    "# Importa bibliotecas que serão utilizadas na visualização dos dados."
   ]
  },
  {
   "cell_type": "code",
   "execution_count": 10,
   "id": "3f48b118",
   "metadata": {},
   "outputs": [],
   "source": [
    "X_train, X_test, y_train, y_test = train_test_split(X, y, test_size=0.2, random_state=42)\n",
    "\n",
    "# Divide o dataset em conjuntos de treinamento (80%) e teste (20%), considerando a definição de X e y feita anteriormente."
   ]
  },
  {
   "cell_type": "code",
   "execution_count": 11,
   "id": "4b2eaee7",
   "metadata": {},
   "outputs": [],
   "source": [
    "modelo2 = LogisticRegression()\n",
    "\n",
    "# Define o modelo de regressão logística."
   ]
  },
  {
   "cell_type": "code",
   "execution_count": 12,
   "id": "4a6b1a35",
   "metadata": {},
   "outputs": [
    {
     "data": {
      "text/html": [
       "<style>#sk-container-id-1 {color: black;background-color: white;}#sk-container-id-1 pre{padding: 0;}#sk-container-id-1 div.sk-toggleable {background-color: white;}#sk-container-id-1 label.sk-toggleable__label {cursor: pointer;display: block;width: 100%;margin-bottom: 0;padding: 0.3em;box-sizing: border-box;text-align: center;}#sk-container-id-1 label.sk-toggleable__label-arrow:before {content: \"▸\";float: left;margin-right: 0.25em;color: #696969;}#sk-container-id-1 label.sk-toggleable__label-arrow:hover:before {color: black;}#sk-container-id-1 div.sk-estimator:hover label.sk-toggleable__label-arrow:before {color: black;}#sk-container-id-1 div.sk-toggleable__content {max-height: 0;max-width: 0;overflow: hidden;text-align: left;background-color: #f0f8ff;}#sk-container-id-1 div.sk-toggleable__content pre {margin: 0.2em;color: black;border-radius: 0.25em;background-color: #f0f8ff;}#sk-container-id-1 input.sk-toggleable__control:checked~div.sk-toggleable__content {max-height: 200px;max-width: 100%;overflow: auto;}#sk-container-id-1 input.sk-toggleable__control:checked~label.sk-toggleable__label-arrow:before {content: \"▾\";}#sk-container-id-1 div.sk-estimator input.sk-toggleable__control:checked~label.sk-toggleable__label {background-color: #d4ebff;}#sk-container-id-1 div.sk-label input.sk-toggleable__control:checked~label.sk-toggleable__label {background-color: #d4ebff;}#sk-container-id-1 input.sk-hidden--visually {border: 0;clip: rect(1px 1px 1px 1px);clip: rect(1px, 1px, 1px, 1px);height: 1px;margin: -1px;overflow: hidden;padding: 0;position: absolute;width: 1px;}#sk-container-id-1 div.sk-estimator {font-family: monospace;background-color: #f0f8ff;border: 1px dotted black;border-radius: 0.25em;box-sizing: border-box;margin-bottom: 0.5em;}#sk-container-id-1 div.sk-estimator:hover {background-color: #d4ebff;}#sk-container-id-1 div.sk-parallel-item::after {content: \"\";width: 100%;border-bottom: 1px solid gray;flex-grow: 1;}#sk-container-id-1 div.sk-label:hover label.sk-toggleable__label {background-color: #d4ebff;}#sk-container-id-1 div.sk-serial::before {content: \"\";position: absolute;border-left: 1px solid gray;box-sizing: border-box;top: 0;bottom: 0;left: 50%;z-index: 0;}#sk-container-id-1 div.sk-serial {display: flex;flex-direction: column;align-items: center;background-color: white;padding-right: 0.2em;padding-left: 0.2em;position: relative;}#sk-container-id-1 div.sk-item {position: relative;z-index: 1;}#sk-container-id-1 div.sk-parallel {display: flex;align-items: stretch;justify-content: center;background-color: white;position: relative;}#sk-container-id-1 div.sk-item::before, #sk-container-id-1 div.sk-parallel-item::before {content: \"\";position: absolute;border-left: 1px solid gray;box-sizing: border-box;top: 0;bottom: 0;left: 50%;z-index: -1;}#sk-container-id-1 div.sk-parallel-item {display: flex;flex-direction: column;z-index: 1;position: relative;background-color: white;}#sk-container-id-1 div.sk-parallel-item:first-child::after {align-self: flex-end;width: 50%;}#sk-container-id-1 div.sk-parallel-item:last-child::after {align-self: flex-start;width: 50%;}#sk-container-id-1 div.sk-parallel-item:only-child::after {width: 0;}#sk-container-id-1 div.sk-dashed-wrapped {border: 1px dashed gray;margin: 0 0.4em 0.5em 0.4em;box-sizing: border-box;padding-bottom: 0.4em;background-color: white;}#sk-container-id-1 div.sk-label label {font-family: monospace;font-weight: bold;display: inline-block;line-height: 1.2em;}#sk-container-id-1 div.sk-label-container {text-align: center;}#sk-container-id-1 div.sk-container {/* jupyter's `normalize.less` sets `[hidden] { display: none; }` but bootstrap.min.css set `[hidden] { display: none !important; }` so we also need the `!important` here to be able to override the default hidden behavior on the sphinx rendered scikit-learn.org. See: https://github.com/scikit-learn/scikit-learn/issues/21755 */display: inline-block !important;position: relative;}#sk-container-id-1 div.sk-text-repr-fallback {display: none;}</style><div id=\"sk-container-id-1\" class=\"sk-top-container\"><div class=\"sk-text-repr-fallback\"><pre>LogisticRegression()</pre><b>In a Jupyter environment, please rerun this cell to show the HTML representation or trust the notebook. <br />On GitHub, the HTML representation is unable to render, please try loading this page with nbviewer.org.</b></div><div class=\"sk-container\" hidden><div class=\"sk-item\"><div class=\"sk-estimator sk-toggleable\"><input class=\"sk-toggleable__control sk-hidden--visually\" id=\"sk-estimator-id-1\" type=\"checkbox\" checked><label for=\"sk-estimator-id-1\" class=\"sk-toggleable__label sk-toggleable__label-arrow\">LogisticRegression</label><div class=\"sk-toggleable__content\"><pre>LogisticRegression()</pre></div></div></div></div></div>"
      ],
      "text/plain": [
       "LogisticRegression()"
      ]
     },
     "execution_count": 12,
     "metadata": {},
     "output_type": "execute_result"
    }
   ],
   "source": [
    "modelo2.fit(X_train, y_train)\n",
    "\n",
    "# Treina o modelo com os dados de treinamento."
   ]
  },
  {
   "cell_type": "code",
   "execution_count": 13,
   "id": "5866be3c",
   "metadata": {},
   "outputs": [],
   "source": [
    "y_pred = modelo2.predict(X_test)\n",
    "\n",
    "# Faz previsões com os dados de teste e armazena o resultado (em uma array) na variável y_pred."
   ]
  },
  {
   "cell_type": "code",
   "execution_count": 14,
   "id": "33d5270a",
   "metadata": {},
   "outputs": [],
   "source": [
    "y_prob = modelo2.predict_proba(X_test)[:, 1]\n",
    "\n",
    "# Probabilidades preditas da classe 1."
   ]
  },
  {
   "cell_type": "code",
   "execution_count": 15,
   "id": "db252661",
   "metadata": {},
   "outputs": [
    {
     "name": "stdout",
     "output_type": "stream",
     "text": [
      "Acurácia do modelo: 0.8173\n"
     ]
    }
   ],
   "source": [
    "acuracia = accuracy_score(y_test, y_pred)\n",
    "print(f'Acurácia do modelo: {acuracia}')\n",
    "\n",
    "# Avalia e exibe a precisão do modelo treinado."
   ]
  },
  {
   "cell_type": "code",
   "execution_count": 16,
   "id": "51ae426f",
   "metadata": {
    "scrolled": true
   },
   "outputs": [
    {
     "name": "stdout",
     "output_type": "stream",
     "text": [
      "Matriz de confusão:\n",
      "[[3297 1028]\n",
      " [ 799 4876]]\n"
     ]
    }
   ],
   "source": [
    "mc = confusion_matrix(y_test, y_pred)\n",
    "print('Matriz de confusão:')\n",
    "print(mc)\n",
    "\n",
    "# Cria e exibe uma matriz de confusão (avaliação do desempenho do modelo em relação a cada classe real e prevista)."
   ]
  },
  {
   "cell_type": "code",
   "execution_count": 17,
   "id": "c4032310",
   "metadata": {},
   "outputs": [
    {
     "data": {
      "image/png": "[encoded data removed]",
      "text/plain": [
       "<Figure size 640x480 with 2 Axes>"
      ]
     },
     "metadata": {},
     "output_type": "display_data"
    }
   ],
   "source": [
    "sns.heatmap(mc, annot=True, fmt='d', cmap='Greys')\n",
    "plt.title('Modelo 2: Matriz de Confusão')\n",
    "plt.ylabel('Classe Verdadeira')\n",
    "plt.xlabel('Classe Predita')\n",
    "plt.savefig('modelo2_mc.png')\n",
    "plt.show()"
   ]
  },
  {
   "cell_type": "code",
   "execution_count": 18,
   "id": "3a064764",
   "metadata": {},
   "outputs": [
    {
     "name": "stdout",
     "output_type": "stream",
     "text": [
      "Relatório de classificação:\n",
      "              precision    recall  f1-score   support\n",
      "\n",
      "           0       0.80      0.76      0.78      4325\n",
      "           1       0.83      0.86      0.84      5675\n",
      "\n",
      "    accuracy                           0.82     10000\n",
      "   macro avg       0.82      0.81      0.81     10000\n",
      "weighted avg       0.82      0.82      0.82     10000\n",
      "\n"
     ]
    }
   ],
   "source": [
    "report = classification_report(y_test, y_pred)\n",
    "print('Relatório de classificação:')\n",
    "print(report)\n",
    "\n",
    "# Cria e exibe um relatório de classificação com métricas de desempenho do modelo e de cada classe."
   ]
  },
  {
   "cell_type": "code",
   "execution_count": 19,
   "id": "6e8c9760",
   "metadata": {},
   "outputs": [
    {
     "data": {
      "image/png": "[encoded data removed]",
      "text/plain": [
       "<Figure size 640x480 with 1 Axes>"
      ]
     },
     "metadata": {},
     "output_type": "display_data"
    }
   ],
   "source": [
    "classes = ['Não TEPT', 'TEPT']\n",
    "precision = [0.80, 0.83]\n",
    "recall = [0.76, 0.86]\n",
    "f1_score = [0.78, 0.84]\n",
    "\n",
    "eixo_x = np.arange(len(classes))\n",
    "width = 0.2\n",
    "\n",
    "fig, ax = plt.subplots()\n",
    "ax.bar(eixo_x - width, precision, width, label='Precision', color='dimgrey')\n",
    "ax.bar(eixo_x, recall, width, label='Recall', color='darkgrey')\n",
    "ax.bar(eixo_x + width, f1_score, width, label='F1-Score', color='lightgrey')\n",
    "\n",
    "ax.set_xlabel('Classes')\n",
    "ax.set_ylabel('Score')\n",
    "ax.set_title('Modelo 2: Precision, Recall e F1-Score por Classe')\n",
    "ax.set_xticks(eixo_x)\n",
    "ax.set_xticklabels(classes)\n",
    "ax.legend()\n",
    "\n",
    "plt.savefig('modelo2_metricas.png')\n",
    "plt.show()\n",
    "\n",
    "# Cria um gráfico de barras com as métricas obtidas no relatório de classificação."
   ]
  },
  {
   "cell_type": "code",
   "execution_count": 20,
   "id": "fae535d5",
   "metadata": {},
   "outputs": [],
   "source": [
    "fpr, tpr, thresholds = roc_curve(y_test, y_prob)\n",
    "\n",
    "# Calcula curva ROC."
   ]
  },
  {
   "cell_type": "code",
   "execution_count": 21,
   "id": "6abb5cd6",
   "metadata": {},
   "outputs": [],
   "source": [
    "roc_auc = auc(fpr, tpr)\n",
    "\n",
    "# Calcula AUC."
   ]
  },
  {
   "cell_type": "code",
   "execution_count": 22,
   "id": "308e9120",
   "metadata": {},
   "outputs": [
    {
     "data": {
      "image/png": "[encoded data removed]",
      "text/plain": [
       "<Figure size 640x480 with 1 Axes>"
      ]
     },
     "metadata": {},
     "output_type": "display_data"
    }
   ],
   "source": [
    "plt.figure()\n",
    "plt.plot(fpr, tpr, color='yellowgreen', label=f'Curva ROC (AUC = {roc_auc:.2f})')\n",
    "plt.plot([0, 1], [0, 1], color='gray', linestyle='--')\n",
    "plt.xlim([0.0, 1.0])\n",
    "plt.ylim([0.0, 1.05])\n",
    "plt.xlabel('Taxa de Falso Positivo')\n",
    "plt.ylabel('Taxa de Verdadeiro Positivo')\n",
    "plt.title('Modelo 2: Receiver Operating Characteristic')\n",
    "plt.legend(loc='lower right')\n",
    "plt.savefig('modelo2_roc.png')\n",
    "plt.show()\n",
    "\n",
    "# Visualização da curva ROC."
   ]
  },
  {
   "cell_type": "code",
   "execution_count": 23,
   "id": "c4db7f80",
   "metadata": {},
   "outputs": [],
   "source": [
    "y_pred2 = (y_prob >= 0.60).astype(int)\n",
    "\n",
    "# Cutoff de 0,60."
   ]
  },
  {
   "cell_type": "code",
   "execution_count": 26,
   "id": "11992597",
   "metadata": {},
   "outputs": [
    {
     "name": "stdout",
     "output_type": "stream",
     "text": [
      "Acurácia do modelo: 0.7861\n"
     ]
    }
   ],
   "source": [
    "acuracia2 = accuracy_score(y_test, y_pred2)\n",
    "print(f'Acurácia do modelo: {acuracia2}')\n",
    "\n",
    "# Avalia e exibe a precisão do modelo treinado para cutoff de 0,60."
   ]
  },
  {
   "cell_type": "code",
   "execution_count": 25,
   "id": "c1b2f987",
   "metadata": {},
   "outputs": [],
   "source": [
    "y_pred3 = (y_prob >= 0.70).astype(int)\n",
    "\n",
    "# Cutoff de 0,70."
   ]
  },
  {
   "cell_type": "code",
   "execution_count": 27,
   "id": "897834a2",
   "metadata": {},
   "outputs": [
    {
     "name": "stdout",
     "output_type": "stream",
     "text": [
      "Acurácia do modelo: 0.7418\n"
     ]
    }
   ],
   "source": [
    "acuracia3 = accuracy_score(y_test, y_pred3)\n",
    "print(f'Acurácia do modelo: {acuracia3}')\n",
    "\n",
    "# Avalia e exibe a precisão do modelo treinado para cutoff de 0,60."
   ]
  },
  {
   "cell_type": "code",
   "execution_count": 28,
   "id": "ca79bca6",
   "metadata": {},
   "outputs": [
    {
     "name": "stdout",
     "output_type": "stream",
     "text": [
      "Intercepto do modelo: [-7.27401472]\n"
     ]
    }
   ],
   "source": [
    "print(f'Intercepto do modelo: {modelo2.intercept_}')"
   ]
  },
  {
   "cell_type": "code",
   "execution_count": 29,
   "id": "cdb69d12",
   "metadata": {},
   "outputs": [
    {
     "name": "stdout",
     "output_type": "stream",
     "text": [
      "Coeficientes do modelo: [[0.54074139 0.23723607 2.50827184 0.41814318 0.70737879]]\n"
     ]
    }
   ],
   "source": [
    "print(f'Coeficientes do modelo: {modelo2.coef_}')"
   ]
  },
  {
   "cell_type": "code",
   "execution_count": 30,
   "id": "59ab44ca",
   "metadata": {},
   "outputs": [
    {
     "name": "stdout",
     "output_type": "stream",
     "text": [
      "Probabilidades preditas: [0.4714069  0.1432296  0.43257396 ... 0.10487203 0.71629482 0.87450255]\n"
     ]
    }
   ],
   "source": [
    "print(f'Probabilidades preditas: {y_prob}')"
   ]
  },
  {
   "cell_type": "code",
   "execution_count": 31,
   "id": "251be98a",
   "metadata": {},
   "outputs": [],
   "source": [
    "import statsmodels.api as sm\n",
    "\n",
    "# Importa a biblioteca Statsmodels."
   ]
  },
  {
   "cell_type": "code",
   "execution_count": 32,
   "id": "ddff0804",
   "metadata": {},
   "outputs": [],
   "source": [
    "X_train_sm = sm.add_constant(X_train)\n",
    "\n",
    "# Adiciona uma constante (intercepto) ao modelo."
   ]
  },
  {
   "cell_type": "code",
   "execution_count": 33,
   "id": "86723f42",
   "metadata": {},
   "outputs": [
    {
     "name": "stdout",
     "output_type": "stream",
     "text": [
      "Optimization terminated successfully.\n",
      "         Current function value: 0.429543\n",
      "         Iterations 7\n"
     ]
    }
   ],
   "source": [
    "modelo2_sm = sm.Logit(y_train, X_train_sm).fit()\n",
    "\n",
    "# Treino do modelo utilizando Statsmodels."
   ]
  },
  {
   "cell_type": "code",
   "execution_count": 34,
   "id": "4802c7e3",
   "metadata": {},
   "outputs": [
    {
     "name": "stdout",
     "output_type": "stream",
     "text": [
      "                           Logit Regression Results                           \n",
      "==============================================================================\n",
      "Dep. Variable:                   tept   No. Observations:                40000\n",
      "Model:                          Logit   Df Residuals:                    39994\n",
      "Method:                           MLE   Df Model:                            5\n",
      "Date:                Sun, 15 Sep 2024   Pseudo R-squ.:                  0.3710\n",
      "Time:                        15:42:06   Log-Likelihood:                -17182.\n",
      "converged:                       True   LL-Null:                       -27315.\n",
      "Covariance Type:            nonrobust   LLR p-value:                     0.000\n",
      "==============================================================================\n",
      "                 coef    std err          z      P>|z|      [0.025      0.975]\n",
      "------------------------------------------------------------------------------\n",
      "const         -7.2789      0.089    -82.117      0.000      -7.453      -7.105\n",
      "crit_a         0.5411      0.014     38.762      0.000       0.514       0.568\n",
      "crit_b         0.2374      0.012     19.461      0.000       0.213       0.261\n",
      "crit_c         2.5102      0.027     94.011      0.000       2.458       2.563\n",
      "crit_d         0.4184      0.011     39.428      0.000       0.398       0.439\n",
      "crit_e         0.7078      0.012     57.489      0.000       0.684       0.732\n",
      "==============================================================================\n"
     ]
    }
   ],
   "source": [
    "print(modelo2_sm.summary())"
   ]
  }
 ],
 "metadata": {
  "kernelspec": {
   "display_name": "Python 3 (ipykernel)",
   "language": "python",
   "name": "python3"
  },
  "language_info": {
   "codemirror_mode": {
    "name": "ipython",
    "version": 3
   },
   "file_extension": ".py",
   "mimetype": "text/x-python",
   "name": "python",
   "nbconvert_exporter": "python",
   "pygments_lexer": "ipython3",
   "version": "3.10.9"
  }
 },
 "nbformat": 4,
 "nbformat_minor": 5
}
