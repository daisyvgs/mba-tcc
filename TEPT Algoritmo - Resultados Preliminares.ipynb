{
 "cells": [
  {
   "cell_type": "markdown",
   "id": "96abd37e",
   "metadata": {},
   "source": [
    "## Algoritmo: Diagnóstico de TEPT"
   ]
  },
  {
   "cell_type": "code",
   "execution_count": 1,
   "id": "098cc112",
   "metadata": {},
   "outputs": [],
   "source": [
    "import pandas as pd\n",
    "import numpy as np\n",
    "\n",
    "# Importação das bibliotecas que serão utilizadas."
   ]
  },
  {
   "cell_type": "code",
   "execution_count": 3,
   "id": "e7e894f3",
   "metadata": {},
   "outputs": [],
   "source": [
    "tept_dataset = pd.read_csv('tept_dataset.csv')\n",
    "\n",
    "# Importa arquivo csv com o dataset."
   ]
  },
  {
   "cell_type": "code",
   "execution_count": 4,
   "id": "91cac500",
   "metadata": {},
   "outputs": [
    {
     "data": {
      "text/plain": [
       "(50000, 27)"
      ]
     },
     "execution_count": 4,
     "metadata": {},
     "output_type": "execute_result"
    }
   ],
   "source": [
    "tept_dataset.shape\n",
    "\n",
    "# Exibe número total de observações e atributos do dataset."
   ]
  },
  {
   "cell_type": "code",
   "execution_count": 5,
   "id": "65829dc0",
   "metadata": {},
   "outputs": [
    {
     "data": {
      "text/plain": [
       "Index(['id', 'a1', 'a2', 'a3', 'a4', 'b1', 'b2', 'b3', 'b4', 'b5', 'c1', 'c2',\n",
       "       'd1', 'd2', 'd3', 'd4', 'd5', 'd6', 'd7', 'e1', 'e2', 'e3', 'e4', 'e5',\n",
       "       'e6', 'tept', 'resultado'],\n",
       "      dtype='object')"
      ]
     },
     "execution_count": 5,
     "metadata": {},
     "output_type": "execute_result"
    }
   ],
   "source": [
    "tept_dataset.columns\n",
    "\n",
    "# Exibe os nomes das colunas do dataset."
   ]
  },
  {
   "cell_type": "code",
   "execution_count": 6,
   "id": "f16ac569",
   "metadata": {},
   "outputs": [
    {
     "name": "stdout",
     "output_type": "stream",
     "text": [
      "<class 'pandas.core.frame.DataFrame'>\n",
      "RangeIndex: 50000 entries, 0 to 49999\n",
      "Data columns (total 27 columns):\n",
      " #   Column     Non-Null Count  Dtype \n",
      "---  ------     --------------  ----- \n",
      " 0   id         50000 non-null  int64 \n",
      " 1   a1         50000 non-null  int64 \n",
      " 2   a2         50000 non-null  int64 \n",
      " 3   a3         50000 non-null  int64 \n",
      " 4   a4         50000 non-null  int64 \n",
      " 5   b1         50000 non-null  int64 \n",
      " 6   b2         50000 non-null  int64 \n",
      " 7   b3         50000 non-null  int64 \n",
      " 8   b4         50000 non-null  int64 \n",
      " 9   b5         50000 non-null  int64 \n",
      " 10  c1         50000 non-null  int64 \n",
      " 11  c2         50000 non-null  int64 \n",
      " 12  d1         50000 non-null  int64 \n",
      " 13  d2         50000 non-null  int64 \n",
      " 14  d3         50000 non-null  int64 \n",
      " 15  d4         50000 non-null  int64 \n",
      " 16  d5         50000 non-null  int64 \n",
      " 17  d6         50000 non-null  int64 \n",
      " 18  d7         50000 non-null  int64 \n",
      " 19  e1         50000 non-null  int64 \n",
      " 20  e2         50000 non-null  int64 \n",
      " 21  e3         50000 non-null  int64 \n",
      " 22  e4         50000 non-null  int64 \n",
      " 23  e5         50000 non-null  int64 \n",
      " 24  e6         50000 non-null  int64 \n",
      " 25  tept       50000 non-null  object\n",
      " 26  resultado  50000 non-null  int64 \n",
      "dtypes: int64(26), object(1)\n",
      "memory usage: 10.3+ MB\n"
     ]
    }
   ],
   "source": [
    "tept_dataset.info()\n",
    "\n",
    "# Exibe um resumo dos dados."
   ]
  },
  {
   "cell_type": "code",
   "execution_count": 7,
   "id": "b278e926",
   "metadata": {},
   "outputs": [
    {
     "data": {
      "text/plain": [
       "sim    28538\n",
       "não    21462\n",
       "Name: tept, dtype: int64"
      ]
     },
     "execution_count": 7,
     "metadata": {},
     "output_type": "execute_result"
    }
   ],
   "source": [
    "tept_dataset[\"tept\"].value_counts()\n",
    "\n",
    "# Frequência de casos positivos e negativos de TEPT, identificados como sim e não, respectivamente."
   ]
  },
  {
   "cell_type": "code",
   "execution_count": 9,
   "id": "5a7e20c8",
   "metadata": {},
   "outputs": [
    {
     "data": {
      "text/plain": [
       "sim    57.076\n",
       "não    42.924\n",
       "Name: tept, dtype: float64"
      ]
     },
     "execution_count": 9,
     "metadata": {},
     "output_type": "execute_result"
    }
   ],
   "source": [
    "tept_dataset[\"tept\"].value_counts(normalize=True)*100\n",
    "\n",
    "# Percentual de casos positivos e negativos de TEPT, identificados como sim e não, respectivamente."
   ]
  },
  {
   "cell_type": "code",
   "execution_count": 10,
   "id": "72d0d16f",
   "metadata": {},
   "outputs": [],
   "source": [
    "import matplotlib.pyplot as plt\n",
    "import matplotlib.ticker as mtick\n",
    "\n",
    "# Importação das bibliotecas que serão utilizadas."
   ]
  },
  {
   "cell_type": "code",
   "execution_count": 18,
   "id": "3997a41d",
   "metadata": {
    "scrolled": true
   },
   "outputs": [
    {
     "data": {
      "image/png": "[encoded data removed]",
      "text/plain": [
       "<Figure size 640x480 with 1 Axes>"
      ]
     },
     "metadata": {},
     "output_type": "display_data"
    }
   ],
   "source": [
    "tept_dataset[\"tept\"].value_counts(normalize=True).plot(kind=\"bar\", color=\"dimgrey\");\n",
    "\n",
    "# Cria um gráfico de barras com os dados da coluna tept.\n",
    "\n",
    "plt.title(\"Frequência de Casos de TEPT\")\n",
    "plt.xlabel(\"Diagnóstico\")\n",
    "plt.ylabel(\"Casos\")\n",
    "plt.xticks(rotation=0)\n",
    "\n",
    "# Título do gráfico, identificação dos eixos e configuração na vertical.\n",
    "\n",
    "plt.gca().yaxis.set_major_formatter(mtick.PercentFormatter(xmax=1.0))\n",
    "plt.gca().set_ylim(0, 1)  \n",
    "\n",
    "# Configura o eixo y para exibir no formato de porcentagem;\n",
    "# Define os limites do eixo y de 0 a 1 (0% a 100%).\n",
    "\n",
    "plt.show()\n",
    "\n",
    "# Exibe o gráfico."
   ]
  },
  {
   "cell_type": "code",
   "execution_count": 19,
   "id": "35a0d481",
   "metadata": {},
   "outputs": [],
   "source": [
    "X = tept_dataset.drop([\"id\", \"tept\", \"resultado\"], axis=1)\n",
    "y = tept_dataset[\"resultado\"]\n",
    "\n",
    "# Armazena em X as colunas do dataset, exceto id, tept e resultado;\n",
    "# Armazena em y a coluna resultado que será utilizada como rótulo."
   ]
  },
  {
   "cell_type": "code",
   "execution_count": 20,
   "id": "aed5dc4d",
   "metadata": {},
   "outputs": [
    {
     "name": "stdout",
     "output_type": "stream",
     "text": [
      "<class 'pandas.core.frame.DataFrame'>\n",
      "RangeIndex: 50000 entries, 0 to 49999\n",
      "Data columns (total 24 columns):\n",
      " #   Column  Non-Null Count  Dtype\n",
      "---  ------  --------------  -----\n",
      " 0   a1      50000 non-null  int64\n",
      " 1   a2      50000 non-null  int64\n",
      " 2   a3      50000 non-null  int64\n",
      " 3   a4      50000 non-null  int64\n",
      " 4   b1      50000 non-null  int64\n",
      " 5   b2      50000 non-null  int64\n",
      " 6   b3      50000 non-null  int64\n",
      " 7   b4      50000 non-null  int64\n",
      " 8   b5      50000 non-null  int64\n",
      " 9   c1      50000 non-null  int64\n",
      " 10  c2      50000 non-null  int64\n",
      " 11  d1      50000 non-null  int64\n",
      " 12  d2      50000 non-null  int64\n",
      " 13  d3      50000 non-null  int64\n",
      " 14  d4      50000 non-null  int64\n",
      " 15  d5      50000 non-null  int64\n",
      " 16  d6      50000 non-null  int64\n",
      " 17  d7      50000 non-null  int64\n",
      " 18  e1      50000 non-null  int64\n",
      " 19  e2      50000 non-null  int64\n",
      " 20  e3      50000 non-null  int64\n",
      " 21  e4      50000 non-null  int64\n",
      " 22  e5      50000 non-null  int64\n",
      " 23  e6      50000 non-null  int64\n",
      "dtypes: int64(24)\n",
      "memory usage: 9.2 MB\n"
     ]
    }
   ],
   "source": [
    "X.info()\n",
    "\n",
    "# Exibe as 24 variáveis (critérios diagnósticos para TEPT) armazenadas em X."
   ]
  },
  {
   "cell_type": "code",
   "execution_count": 22,
   "id": "4ac94e42",
   "metadata": {},
   "outputs": [],
   "source": [
    "from sklearn.model_selection import train_test_split\n",
    "from sklearn.linear_model import LogisticRegression\n",
    "from sklearn.metrics import accuracy_score, confusion_matrix, classification_report\n",
    "\n",
    "# Importação das bibliotecas que serão utilizadas."
   ]
  },
  {
   "cell_type": "code",
   "execution_count": 23,
   "id": "9a021737",
   "metadata": {},
   "outputs": [],
   "source": [
    "X_train, X_test, y_train, y_test = train_test_split(X, y, test_size=0.2, random_state=42)\n",
    "\n",
    "# Divide o dataset em conjuntos de treinamento (80%) e teste (20%), considerando a definição de X e y feita anteriormente."
   ]
  },
  {
   "cell_type": "code",
   "execution_count": 24,
   "id": "ccc3fe3d",
   "metadata": {},
   "outputs": [
    {
     "data": {
      "text/plain": [
       "(40000, 40000)"
      ]
     },
     "execution_count": 24,
     "metadata": {},
     "output_type": "execute_result"
    }
   ],
   "source": [
    "len(X_train), len(y_train)\n",
    "\n",
    "# Exibe total de observações selecionadas para treino."
   ]
  },
  {
   "cell_type": "code",
   "execution_count": 25,
   "id": "81a7caa0",
   "metadata": {},
   "outputs": [
    {
     "data": {
      "text/plain": [
       "(10000, 10000)"
      ]
     },
     "execution_count": 25,
     "metadata": {},
     "output_type": "execute_result"
    }
   ],
   "source": [
    "len(X_test), len(y_test)\n",
    "\n",
    "# Exibe total de observações selecionadas para teste."
   ]
  },
  {
   "cell_type": "code",
   "execution_count": 26,
   "id": "6e92d629",
   "metadata": {},
   "outputs": [],
   "source": [
    "model = LogisticRegression()\n",
    "\n",
    "# Define o modelo de regressão logística."
   ]
  },
  {
   "cell_type": "code",
   "execution_count": 27,
   "id": "7e1d5ee6",
   "metadata": {},
   "outputs": [
    {
     "data": {
      "text/html": [
       "<style>#sk-container-id-1 {color: black;background-color: white;}#sk-container-id-1 pre{padding: 0;}#sk-container-id-1 div.sk-toggleable {background-color: white;}#sk-container-id-1 label.sk-toggleable__label {cursor: pointer;display: block;width: 100%;margin-bottom: 0;padding: 0.3em;box-sizing: border-box;text-align: center;}#sk-container-id-1 label.sk-toggleable__label-arrow:before {content: \"▸\";float: left;margin-right: 0.25em;color: #696969;}#sk-container-id-1 label.sk-toggleable__label-arrow:hover:before {color: black;}#sk-container-id-1 div.sk-estimator:hover label.sk-toggleable__label-arrow:before {color: black;}#sk-container-id-1 div.sk-toggleable__content {max-height: 0;max-width: 0;overflow: hidden;text-align: left;background-color: #f0f8ff;}#sk-container-id-1 div.sk-toggleable__content pre {margin: 0.2em;color: black;border-radius: 0.25em;background-color: #f0f8ff;}#sk-container-id-1 input.sk-toggleable__control:checked~div.sk-toggleable__content {max-height: 200px;max-width: 100%;overflow: auto;}#sk-container-id-1 input.sk-toggleable__control:checked~label.sk-toggleable__label-arrow:before {content: \"▾\";}#sk-container-id-1 div.sk-estimator input.sk-toggleable__control:checked~label.sk-toggleable__label {background-color: #d4ebff;}#sk-container-id-1 div.sk-label input.sk-toggleable__control:checked~label.sk-toggleable__label {background-color: #d4ebff;}#sk-container-id-1 input.sk-hidden--visually {border: 0;clip: rect(1px 1px 1px 1px);clip: rect(1px, 1px, 1px, 1px);height: 1px;margin: -1px;overflow: hidden;padding: 0;position: absolute;width: 1px;}#sk-container-id-1 div.sk-estimator {font-family: monospace;background-color: #f0f8ff;border: 1px dotted black;border-radius: 0.25em;box-sizing: border-box;margin-bottom: 0.5em;}#sk-container-id-1 div.sk-estimator:hover {background-color: #d4ebff;}#sk-container-id-1 div.sk-parallel-item::after {content: \"\";width: 100%;border-bottom: 1px solid gray;flex-grow: 1;}#sk-container-id-1 div.sk-label:hover label.sk-toggleable__label {background-color: #d4ebff;}#sk-container-id-1 div.sk-serial::before {content: \"\";position: absolute;border-left: 1px solid gray;box-sizing: border-box;top: 0;bottom: 0;left: 50%;z-index: 0;}#sk-container-id-1 div.sk-serial {display: flex;flex-direction: column;align-items: center;background-color: white;padding-right: 0.2em;padding-left: 0.2em;position: relative;}#sk-container-id-1 div.sk-item {position: relative;z-index: 1;}#sk-container-id-1 div.sk-parallel {display: flex;align-items: stretch;justify-content: center;background-color: white;position: relative;}#sk-container-id-1 div.sk-item::before, #sk-container-id-1 div.sk-parallel-item::before {content: \"\";position: absolute;border-left: 1px solid gray;box-sizing: border-box;top: 0;bottom: 0;left: 50%;z-index: -1;}#sk-container-id-1 div.sk-parallel-item {display: flex;flex-direction: column;z-index: 1;position: relative;background-color: white;}#sk-container-id-1 div.sk-parallel-item:first-child::after {align-self: flex-end;width: 50%;}#sk-container-id-1 div.sk-parallel-item:last-child::after {align-self: flex-start;width: 50%;}#sk-container-id-1 div.sk-parallel-item:only-child::after {width: 0;}#sk-container-id-1 div.sk-dashed-wrapped {border: 1px dashed gray;margin: 0 0.4em 0.5em 0.4em;box-sizing: border-box;padding-bottom: 0.4em;background-color: white;}#sk-container-id-1 div.sk-label label {font-family: monospace;font-weight: bold;display: inline-block;line-height: 1.2em;}#sk-container-id-1 div.sk-label-container {text-align: center;}#sk-container-id-1 div.sk-container {/* jupyter's `normalize.less` sets `[hidden] { display: none; }` but bootstrap.min.css set `[hidden] { display: none !important; }` so we also need the `!important` here to be able to override the default hidden behavior on the sphinx rendered scikit-learn.org. See: https://github.com/scikit-learn/scikit-learn/issues/21755 */display: inline-block !important;position: relative;}#sk-container-id-1 div.sk-text-repr-fallback {display: none;}</style><div id=\"sk-container-id-1\" class=\"sk-top-container\"><div class=\"sk-text-repr-fallback\"><pre>LogisticRegression()</pre><b>In a Jupyter environment, please rerun this cell to show the HTML representation or trust the notebook. <br />On GitHub, the HTML representation is unable to render, please try loading this page with nbviewer.org.</b></div><div class=\"sk-container\" hidden><div class=\"sk-item\"><div class=\"sk-estimator sk-toggleable\"><input class=\"sk-toggleable__control sk-hidden--visually\" id=\"sk-estimator-id-1\" type=\"checkbox\" checked><label for=\"sk-estimator-id-1\" class=\"sk-toggleable__label sk-toggleable__label-arrow\">LogisticRegression</label><div class=\"sk-toggleable__content\"><pre>LogisticRegression()</pre></div></div></div></div></div>"
      ],
      "text/plain": [
       "LogisticRegression()"
      ]
     },
     "execution_count": 27,
     "metadata": {},
     "output_type": "execute_result"
    }
   ],
   "source": [
    "model.fit(X_train, y_train)\n",
    "\n",
    "# Treina o modelo com os dados de treinamento."
   ]
  },
  {
   "cell_type": "code",
   "execution_count": 44,
   "id": "353e3c58",
   "metadata": {},
   "outputs": [],
   "source": [
    "y_pred = model.predict(X_test)\n",
    "\n",
    "# Faz previsões com os dados de teste e armazena o resultado (em uma array) na variável y_pred."
   ]
  },
  {
   "cell_type": "code",
   "execution_count": 46,
   "id": "c3859214",
   "metadata": {
    "scrolled": true
   },
   "outputs": [
    {
     "name": "stdout",
     "output_type": "stream",
     "text": [
      "[0 0 0 ... 0 1 1]\n"
     ]
    }
   ],
   "source": [
    "print(y_pred)\n",
    "\n",
    "# Exibe array com as previsões atribuídas à y_pred."
   ]
  },
  {
   "cell_type": "code",
   "execution_count": 47,
   "id": "465d3863",
   "metadata": {},
   "outputs": [
    {
     "name": "stdout",
     "output_type": "stream",
     "text": [
      "Accuracy: 0.8181\n"
     ]
    }
   ],
   "source": [
    "accuracy = accuracy_score(y_test, y_pred)\n",
    "print(f'Accuracy: {accuracy}')\n",
    "\n",
    "# Avalia e exibe a precisão do modelo treinado (acurácia)."
   ]
  },
  {
   "cell_type": "code",
   "execution_count": 48,
   "id": "d54e1f86",
   "metadata": {},
   "outputs": [
    {
     "name": "stdout",
     "output_type": "stream",
     "text": [
      "Confusion Matrix:\n",
      "[[3293 1032]\n",
      " [ 787 4888]]\n"
     ]
    }
   ],
   "source": [
    "cm = confusion_matrix(y_test, y_pred)\n",
    "print('Confusion Matrix:')\n",
    "print(cm)\n",
    "\n",
    "# Cria e exibe uma matriz de confusão (avaliação do desempenho do modelo em relação a cada classe real e prevista)."
   ]
  },
  {
   "cell_type": "code",
   "execution_count": 49,
   "id": "a90a002e",
   "metadata": {
    "scrolled": true
   },
   "outputs": [
    {
     "name": "stdout",
     "output_type": "stream",
     "text": [
      "Classification Report:\n",
      "              precision    recall  f1-score   support\n",
      "\n",
      "           0       0.81      0.76      0.78      4325\n",
      "           1       0.83      0.86      0.84      5675\n",
      "\n",
      "    accuracy                           0.82     10000\n",
      "   macro avg       0.82      0.81      0.81     10000\n",
      "weighted avg       0.82      0.82      0.82     10000\n",
      "\n"
     ]
    }
   ],
   "source": [
    "report = classification_report(y_test, y_pred)\n",
    "print('Classification Report:')\n",
    "print(report)\n",
    "\n",
    "# Cria e exibe um relatório de classificação com métricas de desempenho referentes a cada classe e ao modelo."
   ]
  }
 ],
 "metadata": {
  "kernelspec": {
   "display_name": "Python 3 (ipykernel)",
   "language": "python",
   "name": "python3"
  },
  "language_info": {
   "codemirror_mode": {
    "name": "ipython",
    "version": 3
   },
   "file_extension": ".py",
   "mimetype": "text/x-python",
   "name": "python",
   "nbconvert_exporter": "python",
   "pygments_lexer": "ipython3",
   "version": "3.10.9"
  }
 },
 "nbformat": 4,
 "nbformat_minor": 5
}
