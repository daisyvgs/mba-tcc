{
 "cells": [
  {
   "cell_type": "markdown",
   "id": "0dae00f3",
   "metadata": {},
   "source": [
    "# Algoritmo: Diagnóstico Diferencial (Parte 1)"
   ]
  },
  {
   "cell_type": "markdown",
   "id": "7ab3fdec",
   "metadata": {},
   "source": [
    "## Preparando o dataset...\n",
    "<br>\n",
    "<li>One-Hot Encoding para features</li>\n",
    "<li>Label Encoding para target</li>"
   ]
  },
  {
   "cell_type": "code",
   "execution_count": 1,
   "id": "fafd2252",
   "metadata": {},
   "outputs": [],
   "source": [
    "import pandas as pd\n",
    "from sklearn.preprocessing import OneHotEncoder, LabelEncoder"
   ]
  },
  {
   "cell_type": "code",
   "execution_count": 2,
   "id": "2cd46b89",
   "metadata": {},
   "outputs": [],
   "source": [
    "df = pd.read_csv('dd.csv')\n",
    "\n",
    "# Importa o dataset construído anteriormente."
   ]
  },
  {
   "cell_type": "code",
   "execution_count": 3,
   "id": "6cd56aa4",
   "metadata": {},
   "outputs": [],
   "source": [
    "features = ['HUMOR', 'COGNICAO', 'COMPORTAMENTO', 'PERCEPCAO', 'FISIOLOGICO', 'RISCO', 'DURACAO']\n",
    "df_features = df[features]\n",
    "\n",
    "# Armazena as colunas com as características diagnósticas (features).\n",
    "\n",
    "one_hot_encoder = OneHotEncoder(sparse_output=False)\n",
    "encoded_features = one_hot_encoder.fit_transform(df_features)\n",
    "\n",
    "# Cria e aplica o One-Hot Encoder nas features.\n",
    "\n",
    "encoded_df = pd.DataFrame(encoded_features, columns=one_hot_encoder.get_feature_names_out(features))\n",
    "\n",
    "# Transforma as novas colunas em um novo dataframe."
   ]
  },
  {
   "cell_type": "code",
   "execution_count": 4,
   "id": "009c87da",
   "metadata": {},
   "outputs": [],
   "source": [
    "target = 'RESULTADO'\n",
    "\n",
    "# Armazena a coluna que contém o nome dos transtornos mentais (target).\n",
    "\n",
    "label_encoder = LabelEncoder()\n",
    "df[target] = label_encoder.fit_transform(df[target])\n",
    "\n",
    "# Cria e aplica o Label Encoder para transformar cada transtorno mental em um número inteiro único;\n",
    "# Altera o dataframe original."
   ]
  },
  {
   "cell_type": "code",
   "execution_count": 5,
   "id": "e92c7ccb",
   "metadata": {},
   "outputs": [],
   "source": [
    "df['TRANSTORNO'] = label_encoder.inverse_transform(df[target])\n",
    "\n",
    "# Cria uma nova coluna no dataframe com os dados originais."
   ]
  },
  {
   "cell_type": "code",
   "execution_count": 6,
   "id": "f078d53f",
   "metadata": {},
   "outputs": [
    {
     "data": {
      "text/html": [
       "<div>\n",
       "<style scoped>\n",
       "    .dataframe tbody tr th:only-of-type {\n",
       "        vertical-align: middle;\n",
       "    }\n",
       "\n",
       "    .dataframe tbody tr th {\n",
       "        vertical-align: top;\n",
       "    }\n",
       "\n",
       "    .dataframe thead th {\n",
       "        text-align: right;\n",
       "    }\n",
       "</style>\n",
       "<table border=\"1\" class=\"dataframe\">\n",
       "  <thead>\n",
       "    <tr style=\"text-align: right;\">\n",
       "      <th></th>\n",
       "      <th>HUMOR</th>\n",
       "      <th>COGNICAO</th>\n",
       "      <th>COMPORTAMENTO</th>\n",
       "      <th>PERCEPCAO</th>\n",
       "      <th>FISIOLOGICO</th>\n",
       "      <th>RISCO</th>\n",
       "      <th>DURACAO</th>\n",
       "      <th>RESULTADO</th>\n",
       "      <th>TRANSTORNO</th>\n",
       "    </tr>\n",
       "  </thead>\n",
       "  <tbody>\n",
       "    <tr>\n",
       "      <th>0</th>\n",
       "      <td>culpa delirante</td>\n",
       "      <td>recordacao intrusiva</td>\n",
       "      <td>suicida</td>\n",
       "      <td>nao especificado</td>\n",
       "      <td>alteracoes de peso significativas</td>\n",
       "      <td>neuroticismo</td>\n",
       "      <td>&gt; 2 semanas</td>\n",
       "      <td>3</td>\n",
       "      <td>transtorno depressivo maior</td>\n",
       "    </tr>\n",
       "    <tr>\n",
       "      <th>1</th>\n",
       "      <td>autoaversao</td>\n",
       "      <td>dificuldade de concentracao</td>\n",
       "      <td>suicida</td>\n",
       "      <td>nao especificado</td>\n",
       "      <td>perturbacoes do sono</td>\n",
       "      <td>evento traumatico</td>\n",
       "      <td>&gt; 2 semanas</td>\n",
       "      <td>3</td>\n",
       "      <td>transtorno depressivo maior</td>\n",
       "    </tr>\n",
       "    <tr>\n",
       "      <th>2</th>\n",
       "      <td>disforia</td>\n",
       "      <td>dificuldade para pensar</td>\n",
       "      <td>tentativa de suicidio</td>\n",
       "      <td>nao especificado</td>\n",
       "      <td>catatonia</td>\n",
       "      <td>neuroticismo</td>\n",
       "      <td>&gt; 2 semanas</td>\n",
       "      <td>3</td>\n",
       "      <td>transtorno depressivo maior</td>\n",
       "    </tr>\n",
       "    <tr>\n",
       "      <th>3</th>\n",
       "      <td>medo de dano cerebral</td>\n",
       "      <td>acreditar que esta enlouquecendo</td>\n",
       "      <td>robotico</td>\n",
       "      <td>distorcoes visuais</td>\n",
       "      <td>perda de controle dos movimentos</td>\n",
       "      <td>ataques de panico</td>\n",
       "      <td>variavel</td>\n",
       "      <td>0</td>\n",
       "      <td>transtorno de despersonalizacao/desrealizacao</td>\n",
       "    </tr>\n",
       "    <tr>\n",
       "      <th>4</th>\n",
       "      <td>reatividade emocional</td>\n",
       "      <td>lembranca recorrente</td>\n",
       "      <td>imprudente</td>\n",
       "      <td>flashbacks</td>\n",
       "      <td>sintomas pos-concussivos</td>\n",
       "      <td>evento traumatico</td>\n",
       "      <td>&lt; 1 mes</td>\n",
       "      <td>1</td>\n",
       "      <td>transtorno de estresse agudo</td>\n",
       "    </tr>\n",
       "    <tr>\n",
       "      <th>5</th>\n",
       "      <td>raiva</td>\n",
       "      <td>pesadelos</td>\n",
       "      <td>agressivo</td>\n",
       "      <td>despersonalizacao</td>\n",
       "      <td>resposta de sobressalto exagerada</td>\n",
       "      <td>transtorno mental anterior</td>\n",
       "      <td>&lt; 1 mes</td>\n",
       "      <td>1</td>\n",
       "      <td>transtorno de estresse agudo</td>\n",
       "    </tr>\n",
       "    <tr>\n",
       "      <th>6</th>\n",
       "      <td>tristeza</td>\n",
       "      <td>dificuldade de concentracao</td>\n",
       "      <td>irritadico</td>\n",
       "      <td>despersonalizacao</td>\n",
       "      <td>perturbacao do sono</td>\n",
       "      <td>transtorno mental anterior</td>\n",
       "      <td>&lt; 1 mes</td>\n",
       "      <td>1</td>\n",
       "      <td>transtorno de estresse agudo</td>\n",
       "    </tr>\n",
       "    <tr>\n",
       "      <th>7</th>\n",
       "      <td>irritacao</td>\n",
       "      <td>pesadelos</td>\n",
       "      <td>automutilante</td>\n",
       "      <td>despersonalizacao</td>\n",
       "      <td>resposta de sobressalto exagerada</td>\n",
       "      <td>transtorno mental anterior</td>\n",
       "      <td>&gt; 2 meses</td>\n",
       "      <td>2</td>\n",
       "      <td>transtorno de estresse pos-traumatico</td>\n",
       "    </tr>\n",
       "    <tr>\n",
       "      <th>8</th>\n",
       "      <td>tristeza</td>\n",
       "      <td>ideacao suicida</td>\n",
       "      <td>choro</td>\n",
       "      <td>nao especificado</td>\n",
       "      <td>perda de energia</td>\n",
       "      <td>condicoes medicas incapacitantes</td>\n",
       "      <td>&gt; 2 semanas</td>\n",
       "      <td>3</td>\n",
       "      <td>transtorno depressivo maior</td>\n",
       "    </tr>\n",
       "    <tr>\n",
       "      <th>9</th>\n",
       "      <td>vergonha</td>\n",
       "      <td>pesadelos</td>\n",
       "      <td>imprudente</td>\n",
       "      <td>despersonalizacao</td>\n",
       "      <td>sintomas pos-concussivos</td>\n",
       "      <td>transtorno mental anterior</td>\n",
       "      <td>&lt; 1 mes</td>\n",
       "      <td>1</td>\n",
       "      <td>transtorno de estresse agudo</td>\n",
       "    </tr>\n",
       "  </tbody>\n",
       "</table>\n",
       "</div>"
      ],
      "text/plain": [
       "                   HUMOR                          COGNICAO  \\\n",
       "0        culpa delirante              recordacao intrusiva   \n",
       "1            autoaversao       dificuldade de concentracao   \n",
       "2               disforia           dificuldade para pensar   \n",
       "3  medo de dano cerebral  acreditar que esta enlouquecendo   \n",
       "4  reatividade emocional              lembranca recorrente   \n",
       "5                  raiva                         pesadelos   \n",
       "6               tristeza       dificuldade de concentracao   \n",
       "7              irritacao                         pesadelos   \n",
       "8               tristeza                   ideacao suicida   \n",
       "9               vergonha                         pesadelos   \n",
       "\n",
       "           COMPORTAMENTO           PERCEPCAO  \\\n",
       "0                suicida    nao especificado   \n",
       "1                suicida    nao especificado   \n",
       "2  tentativa de suicidio    nao especificado   \n",
       "3               robotico  distorcoes visuais   \n",
       "4             imprudente          flashbacks   \n",
       "5              agressivo   despersonalizacao   \n",
       "6             irritadico   despersonalizacao   \n",
       "7          automutilante   despersonalizacao   \n",
       "8                  choro    nao especificado   \n",
       "9             imprudente   despersonalizacao   \n",
       "\n",
       "                         FISIOLOGICO                             RISCO  \\\n",
       "0  alteracoes de peso significativas                      neuroticismo   \n",
       "1               perturbacoes do sono                 evento traumatico   \n",
       "2                          catatonia                      neuroticismo   \n",
       "3   perda de controle dos movimentos                 ataques de panico   \n",
       "4           sintomas pos-concussivos                 evento traumatico   \n",
       "5  resposta de sobressalto exagerada        transtorno mental anterior   \n",
       "6                perturbacao do sono        transtorno mental anterior   \n",
       "7  resposta de sobressalto exagerada        transtorno mental anterior   \n",
       "8                   perda de energia  condicoes medicas incapacitantes   \n",
       "9           sintomas pos-concussivos        transtorno mental anterior   \n",
       "\n",
       "       DURACAO  RESULTADO                                     TRANSTORNO  \n",
       "0  > 2 semanas          3                    transtorno depressivo maior  \n",
       "1  > 2 semanas          3                    transtorno depressivo maior  \n",
       "2  > 2 semanas          3                    transtorno depressivo maior  \n",
       "3     variavel          0  transtorno de despersonalizacao/desrealizacao  \n",
       "4      < 1 mes          1                   transtorno de estresse agudo  \n",
       "5      < 1 mes          1                   transtorno de estresse agudo  \n",
       "6      < 1 mes          1                   transtorno de estresse agudo  \n",
       "7    > 2 meses          2          transtorno de estresse pos-traumatico  \n",
       "8  > 2 semanas          3                    transtorno depressivo maior  \n",
       "9      < 1 mes          1                   transtorno de estresse agudo  "
      ]
     },
     "execution_count": 6,
     "metadata": {},
     "output_type": "execute_result"
    }
   ],
   "source": [
    "df.head(10)"
   ]
  },
  {
   "cell_type": "markdown",
   "id": "3852ae51",
   "metadata": {},
   "source": [
    "### Target\n",
    "<br>\n",
    "<li>0 = Transtorno de Despersonalizacao/Desrealizacao</li>\n",
    "<li>1 = Transtorno de Estresse Agudo</li>\n",
    "<li>2 = Transtorno de Estresse Pós-Traumático</li>\n",
    "<li>3 = Transtorno Depressivo Maior</li>"
   ]
  },
  {
   "cell_type": "code",
   "execution_count": 7,
   "id": "fcc6547b",
   "metadata": {},
   "outputs": [],
   "source": [
    "target_df = df[['RESULTADO', 'TRANSTORNO']]\n",
    "\n",
    "# Serapa e armazena as 2 colunas referentes ao target no dataframe."
   ]
  },
  {
   "cell_type": "code",
   "execution_count": 8,
   "id": "51f6cfc4",
   "metadata": {},
   "outputs": [],
   "source": [
    "df_final = pd.concat([encoded_df, target_df], axis=1)\n",
    "\n",
    "# Concatena as colunas dos dataframes criados (features e target)."
   ]
  },
  {
   "cell_type": "code",
   "execution_count": 9,
   "id": "078a91be",
   "metadata": {},
   "outputs": [
    {
     "data": {
      "text/plain": [
       "(2000, 116)"
      ]
     },
     "execution_count": 9,
     "metadata": {},
     "output_type": "execute_result"
    }
   ],
   "source": [
    "df_final.shape"
   ]
  },
  {
   "cell_type": "code",
   "execution_count": 10,
   "id": "b2c55ced",
   "metadata": {},
   "outputs": [],
   "source": [
    "df_final.to_csv('dd_df.csv', index=False)\n",
    "\n",
    "# Salva o dataframe como um arquivo csv, sem o índice."
   ]
  }
 ],
 "metadata": {
  "kernelspec": {
   "display_name": "Python 3 (ipykernel)",
   "language": "python",
   "name": "python3"
  },
  "language_info": {
   "codemirror_mode": {
    "name": "ipython",
    "version": 3
   },
   "file_extension": ".py",
   "mimetype": "text/x-python",
   "name": "python",
   "nbconvert_exporter": "python",
   "pygments_lexer": "ipython3",
   "version": "3.10.9"
  }
 },
 "nbformat": 4,
 "nbformat_minor": 5
}
