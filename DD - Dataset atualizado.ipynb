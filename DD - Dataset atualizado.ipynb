{
 "cells": [
  {
   "cell_type": "code",
   "execution_count": 1,
   "id": "e9c0649b",
   "metadata": {},
   "outputs": [],
   "source": [
    "import pandas as pd\n",
    "\n",
    "# Importa a biblioteca Pandas."
   ]
  },
  {
   "cell_type": "code",
   "execution_count": 2,
   "id": "0a18d0ec",
   "metadata": {},
   "outputs": [
    {
     "data": {
      "text/html": [
       "<div>\n",
       "<style scoped>\n",
       "    .dataframe tbody tr th:only-of-type {\n",
       "        vertical-align: middle;\n",
       "    }\n",
       "\n",
       "    .dataframe tbody tr th {\n",
       "        vertical-align: top;\n",
       "    }\n",
       "\n",
       "    .dataframe thead th {\n",
       "        text-align: right;\n",
       "    }\n",
       "</style>\n",
       "<table border=\"1\" class=\"dataframe\">\n",
       "  <thead>\n",
       "    <tr style=\"text-align: right;\">\n",
       "      <th></th>\n",
       "      <th>HUMOR</th>\n",
       "      <th>COGNICAO</th>\n",
       "      <th>COMPORTAMENTO</th>\n",
       "      <th>PERCEPCAO</th>\n",
       "      <th>FISIOLOGICO</th>\n",
       "      <th>RISCO</th>\n",
       "      <th>DURACAO</th>\n",
       "      <th>RESULTADO</th>\n",
       "    </tr>\n",
       "  </thead>\n",
       "  <tbody>\n",
       "    <tr>\n",
       "      <th>0</th>\n",
       "      <td>culpa delirante</td>\n",
       "      <td>recordacao intrusiva</td>\n",
       "      <td>suicida</td>\n",
       "      <td>nao especificado</td>\n",
       "      <td>alteracoes de peso significativas</td>\n",
       "      <td>neuroticismo</td>\n",
       "      <td>&gt; 2 semanas</td>\n",
       "      <td>transtorno depressivo maior</td>\n",
       "    </tr>\n",
       "    <tr>\n",
       "      <th>1</th>\n",
       "      <td>autoaversao</td>\n",
       "      <td>dificuldade de concentracao</td>\n",
       "      <td>suicida</td>\n",
       "      <td>nao especificado</td>\n",
       "      <td>perturbacoes do sono</td>\n",
       "      <td>evento traumatico</td>\n",
       "      <td>&gt; 2 semanas</td>\n",
       "      <td>transtorno depressivo maior</td>\n",
       "    </tr>\n",
       "    <tr>\n",
       "      <th>2</th>\n",
       "      <td>disforia</td>\n",
       "      <td>dificuldade para pensar</td>\n",
       "      <td>tentativa de suicidio</td>\n",
       "      <td>nao especificado</td>\n",
       "      <td>catatonia</td>\n",
       "      <td>neuroticismo</td>\n",
       "      <td>&gt; 2 semanas</td>\n",
       "      <td>transtorno depressivo maior</td>\n",
       "    </tr>\n",
       "    <tr>\n",
       "      <th>3</th>\n",
       "      <td>medo de dano cerebral</td>\n",
       "      <td>acreditar que esta enlouquecendo</td>\n",
       "      <td>robotico</td>\n",
       "      <td>distorcoes visuais</td>\n",
       "      <td>perda de controle dos movimentos</td>\n",
       "      <td>ataques de panico</td>\n",
       "      <td>variavel</td>\n",
       "      <td>transtorno de despersonalizacao/desrealizacao</td>\n",
       "    </tr>\n",
       "    <tr>\n",
       "      <th>4</th>\n",
       "      <td>reatividade emocional</td>\n",
       "      <td>lembranca recorrente</td>\n",
       "      <td>imprudente</td>\n",
       "      <td>flashbacks</td>\n",
       "      <td>sintomas pos-concussivos</td>\n",
       "      <td>evento traumatico</td>\n",
       "      <td>&lt; 1 mes</td>\n",
       "      <td>transtorno de estresse agudo</td>\n",
       "    </tr>\n",
       "    <tr>\n",
       "      <th>...</th>\n",
       "      <td>...</td>\n",
       "      <td>...</td>\n",
       "      <td>...</td>\n",
       "      <td>...</td>\n",
       "      <td>...</td>\n",
       "      <td>...</td>\n",
       "      <td>...</td>\n",
       "      <td>...</td>\n",
       "    </tr>\n",
       "    <tr>\n",
       "      <th>1995</th>\n",
       "      <td>inercia</td>\n",
       "      <td>acreditar que esta enlouquecendo</td>\n",
       "      <td>robotico</td>\n",
       "      <td>distorcoes temporais</td>\n",
       "      <td>perda de controle dos movimentos</td>\n",
       "      <td>ataques de panico</td>\n",
       "      <td>variavel</td>\n",
       "      <td>transtorno de despersonalizacao/desrealizacao</td>\n",
       "    </tr>\n",
       "    <tr>\n",
       "      <th>1996</th>\n",
       "      <td>apatia</td>\n",
       "      <td>preocupacao</td>\n",
       "      <td>robotico</td>\n",
       "      <td>experiencia extracorporea</td>\n",
       "      <td>perda de controle da fala</td>\n",
       "      <td>evento traumatico</td>\n",
       "      <td>variavel</td>\n",
       "      <td>transtorno de despersonalizacao/desrealizacao</td>\n",
       "    </tr>\n",
       "    <tr>\n",
       "      <th>1997</th>\n",
       "      <td>anedonia</td>\n",
       "      <td>preocupacao</td>\n",
       "      <td>retraimento social</td>\n",
       "      <td>nao especificado</td>\n",
       "      <td>alteracoes de peso significativas</td>\n",
       "      <td>condicoes medicas incapacitantes</td>\n",
       "      <td>&gt; 2 semanas</td>\n",
       "      <td>transtorno depressivo maior</td>\n",
       "    </tr>\n",
       "    <tr>\n",
       "      <th>1998</th>\n",
       "      <td>sofrimento prolongado</td>\n",
       "      <td>dificuldade de concentracao</td>\n",
       "      <td>evitativo</td>\n",
       "      <td>despersonalizacao</td>\n",
       "      <td>reatividade fisiologica</td>\n",
       "      <td>transtorno mental anterior</td>\n",
       "      <td>&lt; 1 mes</td>\n",
       "      <td>transtorno de estresse agudo</td>\n",
       "    </tr>\n",
       "    <tr>\n",
       "      <th>1999</th>\n",
       "      <td>sofrimento prolongado</td>\n",
       "      <td>lembranca recorrente</td>\n",
       "      <td>evitativo</td>\n",
       "      <td>flashbacks</td>\n",
       "      <td>reatividade fisiologica</td>\n",
       "      <td>evento traumatico</td>\n",
       "      <td>&lt; 1 mes</td>\n",
       "      <td>transtorno de estresse agudo</td>\n",
       "    </tr>\n",
       "  </tbody>\n",
       "</table>\n",
       "<p>2000 rows × 8 columns</p>\n",
       "</div>"
      ],
      "text/plain": [
       "                      HUMOR                          COGNICAO  \\\n",
       "0           culpa delirante              recordacao intrusiva   \n",
       "1               autoaversao       dificuldade de concentracao   \n",
       "2                  disforia           dificuldade para pensar   \n",
       "3     medo de dano cerebral  acreditar que esta enlouquecendo   \n",
       "4     reatividade emocional              lembranca recorrente   \n",
       "...                     ...                               ...   \n",
       "1995                inercia  acreditar que esta enlouquecendo   \n",
       "1996                 apatia                       preocupacao   \n",
       "1997               anedonia                       preocupacao   \n",
       "1998  sofrimento prolongado       dificuldade de concentracao   \n",
       "1999  sofrimento prolongado              lembranca recorrente   \n",
       "\n",
       "              COMPORTAMENTO                  PERCEPCAO  \\\n",
       "0                   suicida           nao especificado   \n",
       "1                   suicida           nao especificado   \n",
       "2     tentativa de suicidio           nao especificado   \n",
       "3                  robotico         distorcoes visuais   \n",
       "4                imprudente                 flashbacks   \n",
       "...                     ...                        ...   \n",
       "1995               robotico       distorcoes temporais   \n",
       "1996               robotico  experiencia extracorporea   \n",
       "1997     retraimento social           nao especificado   \n",
       "1998              evitativo          despersonalizacao   \n",
       "1999              evitativo                 flashbacks   \n",
       "\n",
       "                            FISIOLOGICO                             RISCO  \\\n",
       "0     alteracoes de peso significativas                      neuroticismo   \n",
       "1                  perturbacoes do sono                 evento traumatico   \n",
       "2                             catatonia                      neuroticismo   \n",
       "3      perda de controle dos movimentos                 ataques de panico   \n",
       "4              sintomas pos-concussivos                 evento traumatico   \n",
       "...                                 ...                               ...   \n",
       "1995   perda de controle dos movimentos                 ataques de panico   \n",
       "1996          perda de controle da fala                 evento traumatico   \n",
       "1997  alteracoes de peso significativas  condicoes medicas incapacitantes   \n",
       "1998            reatividade fisiologica        transtorno mental anterior   \n",
       "1999            reatividade fisiologica                 evento traumatico   \n",
       "\n",
       "          DURACAO                                      RESULTADO  \n",
       "0     > 2 semanas                    transtorno depressivo maior  \n",
       "1     > 2 semanas                    transtorno depressivo maior  \n",
       "2     > 2 semanas                    transtorno depressivo maior  \n",
       "3        variavel  transtorno de despersonalizacao/desrealizacao  \n",
       "4         < 1 mes                   transtorno de estresse agudo  \n",
       "...           ...                                            ...  \n",
       "1995     variavel  transtorno de despersonalizacao/desrealizacao  \n",
       "1996     variavel  transtorno de despersonalizacao/desrealizacao  \n",
       "1997  > 2 semanas                    transtorno depressivo maior  \n",
       "1998      < 1 mes                   transtorno de estresse agudo  \n",
       "1999      < 1 mes                   transtorno de estresse agudo  \n",
       "\n",
       "[2000 rows x 8 columns]"
      ]
     },
     "execution_count": 2,
     "metadata": {},
     "output_type": "execute_result"
    }
   ],
   "source": [
    "df = pd.read_csv('dd.csv')\n",
    "df\n",
    "\n",
    "# Armazena em uma variável e exibe o dataset construído anteriormente."
   ]
  },
  {
   "cell_type": "code",
   "execution_count": 11,
   "id": "722d2b34",
   "metadata": {},
   "outputs": [],
   "source": [
    "amostra = df.sample(1000)\n",
    "\n",
    "# Define uma amostra aleatória composta por 1.000 observações."
   ]
  },
  {
   "cell_type": "code",
   "execution_count": 15,
   "id": "752805a0",
   "metadata": {},
   "outputs": [
    {
     "data": {
      "text/plain": [
       "sofrimento intenso            108\n",
       "medo                           48\n",
       "raiva                          47\n",
       "anedonia                       47\n",
       "culpa                          47\n",
       "tristeza                       46\n",
       "inercia                        45\n",
       "emocoes positivas ausentes     45\n",
       "sofrimento prolongado          44\n",
       "vergonha                       41\n",
       "disforia                       40\n",
       "anestesia emocional            38\n",
       "insensibilidade                36\n",
       "hipoemotividade                33\n",
       "medo de dano cerebral          33\n",
       "apatia                         31\n",
       "surtos de raiva                31\n",
       "angustia generalizada          24\n",
       "autoaversao                    23\n",
       "humor deprimido                22\n",
       "sentimentos de inutilidade     22\n",
       "reatividade emocional          22\n",
       "melancolia                     21\n",
       "sentimentos de desvalia        19\n",
       "horror                         18\n",
       "desesperanca                   18\n",
       "desespero                      17\n",
       "irritacao                      17\n",
       "culpa delirante                17\n",
       "Name: HUMOR, dtype: int64"
      ]
     },
     "execution_count": 15,
     "metadata": {},
     "output_type": "execute_result"
    }
   ],
   "source": [
    "amostra['HUMOR'].value_counts()\n",
    "\n",
    "# Mostra a frequência de cada valor da coluna selecionada."
   ]
  },
  {
   "cell_type": "code",
   "execution_count": 5,
   "id": "c433e0ef",
   "metadata": {},
   "outputs": [
    {
     "data": {
      "text/plain": [
       "preocupacao                          220\n",
       "dificuldade de concentracao          179\n",
       "ruminacao                            171\n",
       "lembranca recorrente                 134\n",
       "pesadelos                            134\n",
       "revivencia                           133\n",
       "amnesia dissociativa                 133\n",
       "acreditar que esta enlouquecendo     125\n",
       "dificuldade em descrever sintomas    125\n",
       "hipervigilancia                       83\n",
       "luto complicado                       50\n",
       "expectativa negativa                  50\n",
       "ideias paranoides                     50\n",
       "cognicao erronea                      50\n",
       "perda de interesse                    46\n",
       "recordacao intrusiva                  46\n",
       "dificuldade para pensar               46\n",
       "ideacao suicida                       45\n",
       "plano suicida                         45\n",
       "problemas de memoria                  45\n",
       "indecisao                             45\n",
       "pensamentos recorrentes de morte      45\n",
       "Name: COGNICAO, dtype: int64"
      ]
     },
     "execution_count": 5,
     "metadata": {},
     "output_type": "execute_result"
    }
   ],
   "source": [
    "df['COGNICAO'].value_counts()\n",
    "\n",
    "# Mostra a frequência de cada valor da coluna selecionada."
   ]
  },
  {
   "cell_type": "code",
   "execution_count": 16,
   "id": "b5abc5b0",
   "metadata": {},
   "outputs": [
    {
     "data": {
      "text/plain": [
       "suicida                  95\n",
       "conduta embotada         92\n",
       "evitativo                86\n",
       "robotico                 79\n",
       "irritadico               79\n",
       "automato                 77\n",
       "imprudente               74\n",
       "agressivo                73\n",
       "retraimento social       71\n",
       "choro                    66\n",
       "tentativa de suicidio    64\n",
       "impulsivo                56\n",
       "reativo                  33\n",
       "autodestrutivo           28\n",
       "automutilante            27\n",
       "Name: COMPORTAMENTO, dtype: int64"
      ]
     },
     "execution_count": 16,
     "metadata": {},
     "output_type": "execute_result"
    }
   ],
   "source": [
    "amostra['COMPORTAMENTO'].value_counts()\n",
    "\n",
    "# Mostra a frequência de cada valor da coluna selecionada."
   ]
  },
  {
   "cell_type": "code",
   "execution_count": 7,
   "id": "54521949",
   "metadata": {},
   "outputs": [
    {
     "data": {
      "text/plain": [
       "nao especificado               500\n",
       "despersonalizacao              322\n",
       "desrealizacao                  321\n",
       "flashbacks                     250\n",
       "intrusao sensorial              84\n",
       "intrusao visual                 84\n",
       "pseudoalucinacoes auditivas     83\n",
       "alteracoes perceptuais          72\n",
       "distorcoes visuais              71\n",
       "distorcoes auditivas            71\n",
       "distorcoes temporais            71\n",
       "experiencia extracorporea       71\n",
       "Name: PERCEPCAO, dtype: int64"
      ]
     },
     "execution_count": 7,
     "metadata": {},
     "output_type": "execute_result"
    }
   ],
   "source": [
    "df['PERCEPCAO'].value_counts()\n",
    "\n",
    "# Mostra a frequência de cada valor da coluna selecionada."
   ]
  },
  {
   "cell_type": "code",
   "execution_count": 17,
   "id": "5b2cf2cd",
   "metadata": {},
   "outputs": [
    {
     "data": {
      "text/plain": [
       "reatividade fisiologica              144\n",
       "perturbacao do sono                  126\n",
       "resposta de sobressalto exagerada    119\n",
       "sintomas somaticos                    88\n",
       "perda de controle da fala             67\n",
       "perda de controle dos movimentos      64\n",
       "anestesia fisica                      58\n",
       "ataques de panico                     56\n",
       "sintomas pos-concussivos              44\n",
       "catatonia                             30\n",
       "insonia                               28\n",
       "perturbacoes psicomotoras             27\n",
       "hipersonia                            26\n",
       "perturbacoes do sono                  26\n",
       "alteracoes no apetite                 26\n",
       "alteracoes de peso significativas     25\n",
       "fadiga persistente                    25\n",
       "perda de energia                      21\n",
       "Name: FISIOLOGICO, dtype: int64"
      ]
     },
     "execution_count": 17,
     "metadata": {},
     "output_type": "execute_result"
    }
   ],
   "source": [
    "amostra['FISIOLOGICO'].value_counts()\n",
    "\n",
    "# Mostra a frequência de cada valor da coluna selecionada."
   ]
  },
  {
   "cell_type": "code",
   "execution_count": 9,
   "id": "b8b79f5e",
   "metadata": {},
   "outputs": [
    {
     "data": {
      "text/plain": [
       "evento traumatico                             490\n",
       "transtorno mental anterior                    334\n",
       "neuroticismo                                  238\n",
       "estrategias de enfrentamento inapropriadas    166\n",
       "ansiedade                                      84\n",
       "ataques de panico                              83\n",
       "traumas interpessoais na infancia              83\n",
       "uso de drogas ilicitas                         83\n",
       "depressao                                      83\n",
       "perda significativa                            72\n",
       "condicoes medicas incapacitantes               71\n",
       "transtornos subjacentes                        71\n",
       "herdabilidade                                  71\n",
       "condicoes medicas cronicas                     71\n",
       "Name: RISCO, dtype: int64"
      ]
     },
     "execution_count": 9,
     "metadata": {},
     "output_type": "execute_result"
    }
   ],
   "source": [
    "df['RISCO'].value_counts()\n",
    "\n",
    "# Mostra a frequência de cada valor da coluna selecionada."
   ]
  },
  {
   "cell_type": "code",
   "execution_count": 18,
   "id": "f85f851b",
   "metadata": {},
   "outputs": [
    {
     "data": {
      "text/plain": [
       "> 2 semanas    263\n",
       "variavel       248\n",
       "< 1 mes        246\n",
       "> 2 meses      243\n",
       "Name: DURACAO, dtype: int64"
      ]
     },
     "execution_count": 18,
     "metadata": {},
     "output_type": "execute_result"
    }
   ],
   "source": [
    "amostra['DURACAO'].value_counts()\n",
    "\n",
    "# Mostra a frequência de cada valor da coluna selecionada."
   ]
  },
  {
   "cell_type": "code",
   "execution_count": 12,
   "id": "0a397f4e",
   "metadata": {},
   "outputs": [
    {
     "data": {
      "text/plain": [
       "transtorno depressivo maior                      263\n",
       "transtorno de despersonalizacao/desrealizacao    248\n",
       "transtorno de estresse agudo                     246\n",
       "transtorno de estresse pos-traumatico            243\n",
       "Name: RESULTADO, dtype: int64"
      ]
     },
     "execution_count": 12,
     "metadata": {},
     "output_type": "execute_result"
    }
   ],
   "source": [
    "amostra['RESULTADO'].value_counts()\n",
    "\n",
    "# Mostra a frequência de cada valor da coluna selecionada."
   ]
  },
  {
   "cell_type": "code",
   "execution_count": 13,
   "id": "2035283c",
   "metadata": {},
   "outputs": [],
   "source": [
    "amostra.to_csv(\"amostra_dd.csv\", index=False)\n",
    "\n",
    "# Salva o dataframe como um arquivo csv, sem o índice."
   ]
  }
 ],
 "metadata": {
  "kernelspec": {
   "display_name": "Python 3 (ipykernel)",
   "language": "python",
   "name": "python3"
  },
  "language_info": {
   "codemirror_mode": {
    "name": "ipython",
    "version": 3
   },
   "file_extension": ".py",
   "mimetype": "text/x-python",
   "name": "python",
   "nbconvert_exporter": "python",
   "pygments_lexer": "ipython3",
   "version": "3.10.9"
  }
 },
 "nbformat": 4,
 "nbformat_minor": 5
}
